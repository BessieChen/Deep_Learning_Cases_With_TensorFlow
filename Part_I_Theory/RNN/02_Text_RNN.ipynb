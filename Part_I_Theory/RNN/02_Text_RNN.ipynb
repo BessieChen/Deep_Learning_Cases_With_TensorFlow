{
 "cells": [
  {
   "cell_type": "code",
   "execution_count": 1,
   "metadata": {},
   "outputs": [],
   "source": [
    "# 项目：不是一上来就写代码，而是先构想好各个模块，再写代码\n",
    "# 注意：正常项目中，每个模块会写在不同文件中。这里为了方便起见，写在同一个notebook中\n",
    "# \n",
    "# 构建计算图 -- LSTM模型\n",
    "# 1. embedding\n",
    "# 2. LSTM\n",
    "# 3. fc\n",
    "# 4. train_op\n",
    "# ------------\n",
    "# 1. 训练流程\n",
    "# 2. 数据集封装\n",
    "#    api: next_betch(batch_size)\n",
    "# 3. 词表封装：\n",
    "#    api: sentence2id(text_sentence) -- 句子转换成id\n",
    "# 4. 类别封装： \n",
    "#    api: category2id(text_category)"
   ]
  },
  {
   "cell_type": "code",
   "execution_count": 5,
   "metadata": {},
   "outputs": [],
   "source": [
    "import tensorflow as tf\n",
    "import os\n",
    "import sys\n",
    "import numpy as np\n",
    "import math\n",
    "\n",
    "import tensorflow.compat.v1 as tf\n",
    "tf.disable_v2_behavior() "
   ]
  },
  {
   "cell_type": "code",
   "execution_count": 6,
   "metadata": {},
   "outputs": [],
   "source": [
    "#用tf.logging打印日志，不适用python的print\n",
    "tf.logging.set_verbosity(tf.logging.INFO)"
   ]
  },
  {
   "cell_type": "code",
   "execution_count": null,
   "metadata": {},
   "outputs": [],
   "source": [
    "#定义：输入输出文件，lstm模型参数\n",
    "#用tf.contrib.training.HParams这个api管理所有参数\n",
    "#这个api返回一个object\n",
    "\n",
    "#参数介绍：这里因为示例使用，所以为了训练快一点，参数的值设置都比较小，可以适当增大\n",
    "#1. num_embedding_size: 一个词需要多少元素的向量来表示\n",
    "#2. num_time_steps: 一句话的字数，也就是我们学习的步数\n",
    "#                   虽然LSTM/RNN可以支持变长输入，但是这里我们输入的batch是定长的（通过截断或者padding），\n",
    "#                   但是也有一种是变长的实现\n",
    "#3. num_lstm_nodes: LSTM每一层的size, 例如有两层，每一层的size是32，就写成[32, 32]\n",
    "#4. num_lstm_layers: 层次数\n",
    "#5. num_fc_nodes: \n",
    "#6. batch_size:\n",
    "#7. clip_lstm_grads: 控制lstm梯度大小\n",
    "def get_default_params():\n",
    "    return tf.contrib.training.HParams(\n",
    "        num_embedding_size = 16,\n",
    "        num_time_steps = 50,\n",
    "        num_lstm_nodes = [32, 32],\n",
    "        num_lstm_layers = len(num_lstm_nodes),\n",
    "        num_fc_nodes = 32,\n",
    "        batch_size = 100,\n",
    "        clip_lstm_grads = 1.0\n",
    "    )"
   ]
  }
 ],
 "metadata": {
  "kernelspec": {
   "display_name": "Python 3",
   "language": "python",
   "name": "python3"
  },
  "language_info": {
   "codemirror_mode": {
    "name": "ipython",
    "version": 3
   },
   "file_extension": ".py",
   "mimetype": "text/x-python",
   "name": "python",
   "nbconvert_exporter": "python",
   "pygments_lexer": "ipython3",
   "version": "3.7.3"
  }
 },
 "nbformat": 4,
 "nbformat_minor": 2
}
