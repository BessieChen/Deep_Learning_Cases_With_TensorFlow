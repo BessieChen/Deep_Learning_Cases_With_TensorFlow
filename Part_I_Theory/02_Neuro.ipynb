{
 "cells": [
  {
   "cell_type": "code",
   "execution_count": 1,
   "metadata": {},
   "outputs": [],
   "source": [
    "import tensorflow as tf"
   ]
  },
  {
   "cell_type": "markdown",
   "metadata": {},
   "source": [
    "#### 如果需要使用tf 1.0\n",
    "tf v2.0 does not have placeholder(), .reset_default_graph().\n",
    "\n",
    "[tf api docs](https://www.tensorflow.org/api_docs/python/)"
   ]
  },
  {
   "cell_type": "code",
   "execution_count": 2,
   "metadata": {},
   "outputs": [
    {
     "name": "stdout",
     "output_type": "stream",
     "text": [
      "WARNING:tensorflow:From /Users/bessie/anaconda3/lib/python3.7/site-packages/tensorflow_core/python/compat/v2_compat.py:88: disable_resource_variables (from tensorflow.python.ops.variable_scope) is deprecated and will be removed in a future version.\n",
      "Instructions for updating:\n",
      "non-resource variables are not supported in the long term\n"
     ]
    }
   ],
   "source": [
    "import tensorflow.compat.v1 as tf\n",
    "tf.disable_v2_behavior() "
   ]
  },
  {
   "cell_type": "code",
   "execution_count": 3,
   "metadata": {},
   "outputs": [
    {
     "name": "stdout",
     "output_type": "stream",
     "text": [
      "['data_batch_1', '.DS_Store', 'readme.html', 'batches.meta', 'data_batch_2', 'data_batch_5', 'test_batch', 'data_batch_4', 'data_batch_3']\n"
     ]
    }
   ],
   "source": [
    "#读数据：\n",
    "import os\n",
    "import pickle as cPickle\n",
    "import numpy as np\n",
    "\n",
    "CIFAR_DIR = \"../../../other_datasets/cifar-10-batches-py\"\n",
    "print(os.listdir(CIFAR_DIR))"
   ]
  },
  {
   "cell_type": "code",
   "execution_count": 4,
   "metadata": {},
   "outputs": [],
   "source": [
    "#将数据读取,返回data 和 labels\n",
    "def load_data(filename):\n",
    "    \"\"\"read data from data file.\"\"\"\n",
    "    with open(filename, 'rb') as f:\n",
    "        data = cPickle.load(f, encoding = 'latin1')\n",
    "        return data['data'], data['labels']"
   ]
  },
  {
   "cell_type": "markdown",
   "metadata": {},
   "source": [
    "#### tf 1.0\n",
    "1. 先把图搭建起来，然后再塞入数据\n",
    "2. 所以需要占位符，是之后塞入数据的地方\n",
    "\n",
    "#### X,y的大小\n",
    "1. 下面的x之所以是[None, 3072], 是因为我们的样本数是不确定的，但是特征量是确定的\n",
    "2. 样本数不确定：因为是mini batch训练，不确定有多少个"
   ]
  },
  {
   "cell_type": "code",
   "execution_count": 5,
   "metadata": {},
   "outputs": [],
   "source": [
    "x = tf.placeholder(tf.float32, [None, 3072])\n",
    "y = tf.placeholder(tf.int64, [None])"
   ]
  },
  {
   "cell_type": "markdown",
   "metadata": {},
   "source": [
    "### tf.get_variable\n",
    "1. 获取变量的函数\n",
    "2. 第一个参数：'w'， 意思是如果没有w这个变量，就定义一个新的。"
   ]
  },
  {
   "cell_type": "markdown",
   "metadata": {},
   "source": [
    "### W\n",
    "1. w这里定义为一个列向量：有多少个特征，就有多少行（3072行） #这里的x.get_shape()[-1]就是3072\n",
    "2. w的初始值用正态分布：initializer=tf.random_normal_initializer(0,1)"
   ]
  },
  {
   "cell_type": "code",
   "execution_count": 6,
   "metadata": {},
   "outputs": [],
   "source": [
    "w = tf.get_variable('w', \n",
    "                    [x.get_shape()[-1], 1], \n",
    "                    initializer=tf.random_normal_initializer(0,1)) "
   ]
  },
  {
   "cell_type": "markdown",
   "metadata": {},
   "source": [
    "### b\n",
    "1. b的维度和w的第二维度一样\n",
    "2. 本例中，因为w只是一个列向量，所以第二维度是1\n",
    "3. 或者说，本例中只有一个神经元，所以b也只有1个\n",
    "4. 初始值一般都是常量，0.0"
   ]
  },
  {
   "cell_type": "code",
   "execution_count": 7,
   "metadata": {},
   "outputs": [],
   "source": [
    "b = tf.get_variable('b', \n",
    "                    [1], \n",
    "                    initializer=tf.constant_initializer(0.0)) "
   ]
  },
  {
   "cell_type": "markdown",
   "metadata": {},
   "source": [
    "### y"
   ]
  },
  {
   "cell_type": "code",
   "execution_count": 8,
   "metadata": {},
   "outputs": [],
   "source": [
    "y_ = tf.matmul(x, w) + b\n",
    "\n",
    "p_y_1 = tf.nn.sigmoid(y_) #https://www.tensorflow.org/api_docs/python/"
   ]
  },
  {
   "cell_type": "markdown",
   "metadata": {},
   "source": [
    "### loss"
   ]
  },
  {
   "cell_type": "code",
   "execution_count": 9,
   "metadata": {},
   "outputs": [],
   "source": [
    "#之前y的shape是[None,] 但是p_y_1的shape是[None, 1]\n",
    "#y的类型是int64，但是p_y_1的类型是float32，tf对类型敏感\n",
    "y_reshaped = tf.reshape(y, (-1, 1))\n",
    "y_reshaped_float = tf.cast(y_reshaped, tf.float32)\n",
    "\n",
    "loss = tf.reduce_mean(tf.square(y_reshaped_float - p_y_1))"
   ]
  },
  {
   "cell_type": "markdown",
   "metadata": {},
   "source": [
    "### 形状总结\n",
    "1. x : (None, 3072)\n",
    "2. y : (None, )\n",
    "3. W : (3072, 1)\n",
    "4. b : (1, )\n",
    "5. y_ : x * W = (None, 3072) * (3072, 1) = (None, 1)\n",
    "6. y 和 y_ 的shape不同！\n",
    "7. p_y_1 : (None, 1), 因为和y_的shape相同"
   ]
  },
  {
   "cell_type": "code",
   "execution_count": 10,
   "metadata": {},
   "outputs": [],
   "source": [
    "#bool:\n",
    "predict = p_y_1 > 0.5\n",
    "\n",
    "#int64:\n",
    "predict_float = tf.cast(predict, tf.int64)\n",
    "\n",
    "#bool:\n",
    "correct_prediction = tf.equal(predict_float, y_reshaped) #两个int64的array比较\n",
    "\n",
    "#float64:\n",
    "correct_prediction_float = tf.cast(correct_prediction, tf.float32)\n",
    "\n",
    "#float64, 因为correct_prediction_float是[1.0, 0.0, 1.0, ...] 而reduce_mean就是看有多少1，然后除以len\n",
    "accuracy = tf.reduce_mean(correct_prediction_float)"
   ]
  },
  {
   "cell_type": "markdown",
   "metadata": {},
   "source": [
    "### AdamOptimizer\n",
    "AdamOptimizer(learning_rate)：梯度下降的变种，初始learning_rate是0.01，目标最小化loss"
   ]
  },
  {
   "cell_type": "code",
   "execution_count": 11,
   "metadata": {},
   "outputs": [],
   "source": [
    "with tf.name_scope('train_op'):\n",
    "    train_op = tf.train.AdamOptimizer(1e-3).minimize(loss)"
   ]
  },
  {
   "cell_type": "markdown",
   "metadata": {},
   "source": [
    "### cifar10 数据处理\n",
    "因为mini-batch，所以需要在cifar10上循环遍历数据，每次在sess.run()的feed_dict塞入不同数据"
   ]
  },
  {
   "cell_type": "code",
   "execution_count": 12,
   "metadata": {},
   "outputs": [],
   "source": [
    "#filenames: 对 训练数据集 和 测试数据集 是分开的\n",
    "#need_shuffle: 训练数据集需要shuffle，测试数据集不需要shuffle\n",
    "class CifarData:\n",
    "    def __init__(self, filenames, need_shuffle):\n",
    "        #读入数据：\n",
    "        all_data = []\n",
    "        all_labels = []\n",
    "        for filename in filenames:\n",
    "            data, labels = load_data(filename)\n",
    "            #data的对应位置的图像的label，也是label对应位置的label，所以把它们两个zip起来\n",
    "            for item, label in zip(data, labels):\n",
    "                if label in [0,1]:\n",
    "                    all_data.append(item)\n",
    "                    all_labels.append(label)\n",
    "        #data是numpy的矩阵，\n",
    "        #item是numpy的向量\n",
    "        #all_data里面包含了许多numpy的向量，现在我们将这些向量纵向合并到一起，成为一个矩阵：用np.vstack()\n",
    "        #all_labels里面包含了许多label的向量，现在我们将这些向量横向合并到一起，成为一个矩阵（但是这个矩阵只有一行：n * 1）：用np.hstack()\n",
    "        self._data = np.vstack(all_data) \n",
    "        self._labels = np.hstack(all_labels)\n",
    "        print(self._data.shape)\n",
    "        print(self._labels.shape)\n",
    "        self._num_examples = self._data.shape[0] #多少个样本\n",
    "        self._need_shuffle = need_shuffle\n",
    "        self._indicator = 0 #遍历到数据集的哪个位置\n",
    "        if self._need_shuffle:\n",
    "            self._shuffle_data()\n",
    "    \n",
    "    def _shuffle_data(self): #在训练集上shuffle\n",
    "        # np.random.permutation(6) -> [3,2,5,1,4,0]\n",
    "        p = np.random.permutation(self._num_examples) #得到一个混的全排\n",
    "        self._data = self._data[p]\n",
    "        self._labels = self._labels[p]\n",
    "        \n",
    "    def next_batch(self, batch_size): #每次返回batch_size个数个样本\n",
    "        \"\"\"return batch_size examples as a batch.\"\"\"\n",
    "        end_indicator = self._indicator + batch_size\n",
    "        if end_indicator > self._num_examples:\n",
    "            if self._need_shuffle:\n",
    "                self._shuffle_data() #就算遍历完，可是如果可以shuffle，我们的数据可以复用\n",
    "                self._indicator = 0\n",
    "                end_indicator = batch_size + 0\n",
    "            else:\n",
    "                raise Exception(\"have no more examples\") #已经遍历完了并且不能shuffle\n",
    "        if end_indicator > self._num_examples:\n",
    "            #此时说明我们输入的batch_size比我们的所有样本都要大\n",
    "            raise Exception(\"batch size is larger than example size\")\n",
    "        batch_data = self._data[self._indicator : end_indicator]\n",
    "        batch_labels = self._labels[self._indicator : end_indicator]\n",
    "        self._indicator = end_indicator\n",
    "        return batch_data, batch_labels"
   ]
  },
  {
   "cell_type": "markdown",
   "metadata": {},
   "source": [
    "### 测试我们的CifarData\n",
    "1. 首先cifar10拥有50k个样本（10个类别），我们现在是二分类问题，只选取label为0，1的\n",
    "2. 所以应该有 50k * (1/5) = 10k个样本 (10000, 3072)"
   ]
  },
  {
   "cell_type": "code",
   "execution_count": 13,
   "metadata": {},
   "outputs": [
    {
     "name": "stdout",
     "output_type": "stream",
     "text": [
      "(10000, 3072)\n",
      "(10000,)\n"
     ]
    }
   ],
   "source": [
    "train_filenames = [os.path.join(CIFAR_DIR, 'data_batch_%d' % i) for i in range(1, 6)]\n",
    "test_filenames = [os.path.join(CIFAR_DIR, 'test_batch') ]\n",
    "\n",
    "train_data = CifarData(train_filenames, True)"
   ]
  },
  {
   "cell_type": "code",
   "execution_count": 14,
   "metadata": {},
   "outputs": [
    {
     "name": "stdout",
     "output_type": "stream",
     "text": [
      "(2000, 3072)\n",
      "(2000,)\n"
     ]
    }
   ],
   "source": [
    "test_data = CifarData(test_filenames, False)"
   ]
  },
  {
   "cell_type": "code",
   "execution_count": 15,
   "metadata": {},
   "outputs": [
    {
     "name": "stdout",
     "output_type": "stream",
     "text": [
      "(3, 3072)\n",
      "[[188 185 204 ... 188 188 204]\n",
      " [ 72  73  75 ... 185 185 185]\n",
      " [ 69  96  68 ...  28  18  38]]\n",
      "(3,)\n",
      "[1 0 1]\n"
     ]
    }
   ],
   "source": [
    "batch_data, batch_labels = train_data.next_batch(3)\n",
    "print(batch_data.shape)\n",
    "print(batch_data)\n",
    "print(batch_labels.shape)\n",
    "print(batch_labels)"
   ]
  },
  {
   "cell_type": "markdown",
   "metadata": {},
   "source": [
    "### 执行流程图"
   ]
  },
  {
   "cell_type": "code",
   "execution_count": 24,
   "metadata": {},
   "outputs": [
    {
     "name": "stdout",
     "output_type": "stream",
     "text": [
      "[Train] Step: 1000, loss: 0.75000, acc: 0.25000\n",
      "[Train] Step: 2000, loss: 0.60000, acc: 0.40000\n",
      "[Train] Step: 3000, loss: 0.40000, acc: 0.60000\n",
      "[Train] Step: 4000, loss: 0.60000, acc: 0.40000\n",
      "[Train] Step: 5000, loss: 0.55000, acc: 0.45000\n",
      "(2000, 3072)\n",
      "(2000,)\n",
      "[Test] Step: 5000, acc: 0.49300\n",
      "[Train] Step: 6000, loss: 0.50000, acc: 0.50000\n",
      "[Train] Step: 7000, loss: 0.45000, acc: 0.55000\n",
      "[Train] Step: 8000, loss: 0.35000, acc: 0.65000\n",
      "[Train] Step: 9000, loss: 0.45000, acc: 0.55000\n",
      "[Train] Step: 10000, loss: 0.55000, acc: 0.45000\n",
      "(2000, 3072)\n",
      "(2000,)\n",
      "[Test] Step: 10000, acc: 0.49300\n"
     ]
    }
   ],
   "source": [
    "init = tf.global_variables_initializer() #执行初始化\n",
    "#开启Session，相当于打开绘画\n",
    "#sess.run()执行计算图\n",
    "#1. 计算目标:\n",
    "#表示要训练：[loss, accuracy, train_op]\n",
    "#表示要测试：[loss, accuracy]\n",
    "\n",
    "#2. feed_dict:塞入数据\n",
    "# x: x要塞的数据\n",
    "# 因为mini-batch，所以需要在cifar10上循环遍历数据，每次塞入不同数据\n",
    "\n",
    "batch_size = 20 #每次取20张图来 训练 或者 测试\n",
    "train_steps = 10000\n",
    "test_steps = 100\n",
    "\n",
    "with tf.Session() as sess:\n",
    "    sess.run(init)\n",
    "    for i in range(train_steps):\n",
    "        batch_data, batch_labels = train_data.next_batch(batch_size)\n",
    "        #因为train_op返回的东西没有意义，所以用 _ 下划线接住返回值\n",
    "        loss_val, accu_val, _ = sess.run(\n",
    "            [loss, accuracy, train_op], \n",
    "            feed_dict = {\n",
    "                x: batch_data, \n",
    "                y: batch_labels})  #注意格式！\n",
    "        #===============================\n",
    "        #======训练=====================\n",
    "        if (i+1) % 1000 == 0: #使用(i+1)就可以输出500和1000\n",
    "            print(\"[Train] Step: %d, loss: %4.5f, acc: %4.5f\"\\\n",
    "                 % (i+1, loss_val, accu_val))\n",
    "        #===============================\n",
    "        #======测试=====================\n",
    "        if (i+1) % 5000 == 0: #使用(i+1)就可以输出500和1000\n",
    "            test_data = CifarData(test_filenames, False)\n",
    "            all_test_acc_vals = []\n",
    "            for j in range(test_steps):\n",
    "                test_batch_data, test_batch_labels \\\n",
    "                    = test_data.next_batch(batch_size)\n",
    "                test_acc_val = sess.run(\n",
    "                    [accuracy],\n",
    "                    feed_dict = {\n",
    "                        x: test_batch_data,\n",
    "                        y: test_batch_labels\n",
    "                    })\n",
    "                all_test_acc_vals.append(test_acc_val)\n",
    "            test_acc = np.mean(all_test_acc_vals)\n",
    "            print(\"[Test] Step: %d, acc: %4.5f\" % (i+1, test_acc))\n",
    "            \n",
    "            \n"
   ]
  },
  {
   "cell_type": "markdown",
   "metadata": {},
   "source": [
    "#### 观察\n",
    "1. train的acc只有0.5左右，跟随机猜的效果差不多\n",
    "2. 上面的test结果，acc从0.49300到0.49300，说明我们没有学到什么\n",
    "3. 可以做的改进：将0-255的值二分成0，1"
   ]
  },
  {
   "cell_type": "code",
   "execution_count": 25,
   "metadata": {},
   "outputs": [],
   "source": [
    "#filenames: 对 训练数据集 和 测试数据集 是分开的\n",
    "#need_shuffle: 训练数据集需要shuffle，测试数据集不需要shuffle\n",
    "class CifarData2:\n",
    "    def __init__(self, filenames, need_shuffle):\n",
    "        #读入数据：\n",
    "        all_data = []\n",
    "        all_labels = []\n",
    "        for filename in filenames:\n",
    "            data, labels = load_data(filename)\n",
    "            #data的对应位置的图像的label，也是label对应位置的label，所以把它们两个zip起来\n",
    "            for item, label in zip(data, labels):\n",
    "                if label in [0,1]:\n",
    "                    all_data.append(item)\n",
    "                    all_labels.append(label)\n",
    "        #data是numpy的矩阵，\n",
    "        #item是numpy的向量\n",
    "        #all_data里面包含了许多numpy的向量，现在我们将这些向量纵向合并到一起，成为一个矩阵：用np.vstack()\n",
    "        #all_labels里面包含了许多label的向量，现在我们将这些向量横向合并到一起，成为一个矩阵（但是这个矩阵只有一行：n * 1）：用np.hstack()\n",
    "        self._data = np.vstack(all_data) \n",
    "        self._data = self._data / 127.5 - 1 #最后做的改进：将0-255的值二分成0，1\n",
    "        self._labels = np.hstack(all_labels)\n",
    "        print(self._data.shape)\n",
    "        print(self._labels.shape)\n",
    "        self._num_examples = self._data.shape[0] #多少个样本\n",
    "        self._need_shuffle = need_shuffle\n",
    "        self._indicator = 0 #遍历到数据集的哪个位置\n",
    "        if self._need_shuffle:\n",
    "            self._shuffle_data()\n",
    "    \n",
    "    def _shuffle_data(self): #在训练集上shuffle\n",
    "        # np.random.permutation(6) -> [3,2,5,1,4,0]\n",
    "        p = np.random.permutation(self._num_examples) #得到一个混的全排\n",
    "        self._data = self._data[p]\n",
    "        self._labels = self._labels[p]\n",
    "        \n",
    "    def next_batch(self, batch_size): #每次返回batch_size个数个样本\n",
    "        \"\"\"return batch_size examples as a batch.\"\"\"\n",
    "        end_indicator = self._indicator + batch_size\n",
    "        if end_indicator > self._num_examples:\n",
    "            if self._need_shuffle:\n",
    "                self._shuffle_data() #就算遍历完，可是如果可以shuffle，我们的数据可以复用\n",
    "                self._indicator = 0\n",
    "                end_indicator = batch_size + 0\n",
    "            else:\n",
    "                raise Exception(\"have no more examples\") #已经遍历完了并且不能shuffle\n",
    "        if end_indicator > self._num_examples:\n",
    "            #此时说明我们输入的batch_size比我们的所有样本都要大\n",
    "            raise Exception(\"batch size is larger than example size\")\n",
    "        batch_data = self._data[self._indicator : end_indicator]\n",
    "        batch_labels = self._labels[self._indicator : end_indicator]\n",
    "        self._indicator = end_indicator\n",
    "        return batch_data, batch_labels"
   ]
  },
  {
   "cell_type": "code",
   "execution_count": 29,
   "metadata": {},
   "outputs": [
    {
     "name": "stdout",
     "output_type": "stream",
     "text": [
      "(10000, 3072)\n",
      "(10000,)\n",
      "(2000, 3072)\n",
      "(2000,)\n",
      "[Train] Step: 100000, loss: 0.15000, acc: 0.85000\n",
      "[Train] Step: 200000, loss: 0.25111, acc: 0.75000\n",
      "[Train] Step: 300000, loss: 0.00129, acc: 1.00000\n",
      "[Train] Step: 400000, loss: 0.00019, acc: 1.00000\n",
      "[Train] Step: 500000, loss: 0.10007, acc: 0.90000\n",
      "(2000, 3072)\n",
      "(2000,)\n",
      "[Test] Step: 500000, acc: 0.62500\n",
      "[Train] Step: 600000, loss: 0.10000, acc: 0.90000\n",
      "[Train] Step: 700000, loss: 0.05012, acc: 0.95000\n",
      "[Train] Step: 800000, loss: 0.10001, acc: 0.90000\n",
      "[Train] Step: 900000, loss: 0.09909, acc: 0.90000\n",
      "[Train] Step: 1000000, loss: 0.00022, acc: 1.00000\n",
      "(2000, 3072)\n",
      "(2000,)\n",
      "[Test] Step: 1000000, acc: 0.62650\n"
     ]
    }
   ],
   "source": [
    "train_data = CifarData2(train_filenames, True)\n",
    "test_data = CifarData2(test_filenames, False)\n",
    "\n",
    "init = tf.global_variables_initializer() #执行初始化\n",
    "#开启Session，相当于打开绘画\n",
    "#sess.run()执行计算图\n",
    "#1. 计算目标:\n",
    "#表示要训练：[loss, accuracy, train_op]\n",
    "#表示要测试：[loss, accuracy]\n",
    "\n",
    "#2. feed_dict:塞入数据\n",
    "# x: x要塞的数据\n",
    "# 因为mini-batch，所以需要在cifar10上循环遍历数据，每次塞入不同数据\n",
    "\n",
    "batch_size = 20 #每次取20张图来 训练 或者 测试\n",
    "train_steps = 1000000\n",
    "test_steps = 100\n",
    "\n",
    "with tf.Session() as sess:\n",
    "    sess.run(init)\n",
    "    for i in range(train_steps):\n",
    "        batch_data, batch_labels = train_data.next_batch(batch_size)\n",
    "        #因为train_op返回的东西没有意义，所以用 _ 下划线接住返回值\n",
    "        loss_val, accu_val, _ = sess.run(\n",
    "            [loss, accuracy, train_op], \n",
    "            feed_dict = {\n",
    "                x: batch_data, \n",
    "                y: batch_labels})  #注意格式！\n",
    "        #===============================\n",
    "        #======训练=====================\n",
    "        if (i+1) % 100000 == 0: #使用(i+1)就可以输出500和1000\n",
    "            print(\"[Train] Step: %d, loss: %4.5f, acc: %4.5f\"\\\n",
    "                 % (i+1, loss_val, accu_val))\n",
    "        #===============================\n",
    "        #======测试=====================\n",
    "        if (i+1) % 500000 == 0: #使用(i+1)就可以输出500和1000\n",
    "            test_data = CifarData(test_filenames, False)\n",
    "            all_test_acc_vals = []\n",
    "            for j in range(test_steps):\n",
    "                test_batch_data, test_batch_labels \\\n",
    "                    = test_data.next_batch(batch_size)\n",
    "                test_acc_val = sess.run(\n",
    "                    [accuracy],\n",
    "                    feed_dict = {\n",
    "                        x: test_batch_data,\n",
    "                        y: test_batch_labels\n",
    "                    })\n",
    "                all_test_acc_vals.append(test_acc_val)\n",
    "            test_acc = np.mean(all_test_acc_vals)\n",
    "            print(\"[Test] Step: %d, acc: %4.5f\" % (i+1, test_acc))\n",
    "            \n",
    "            \n"
   ]
  },
  {
   "cell_type": "markdown",
   "metadata": {},
   "source": [
    "#### 改进后 观察\n",
    "1. train数据集的acc更高\n",
    "2. test时候随着学习次数增多，acc提升\n",
    "\n",
    "#### 为何归一化的改进会让train和test效果更好？\n",
    "1. 归一化: self._data = self._data / 127.5 - 1\n",
    "2. 没有归一化，我们的结果会偏向一方，0类或者1类（why？）\n",
    "3. 当结果偏向一方的时候，sigmoid函数的导数趋近于0（梯度为0），几乎学不到东西"
   ]
  },
  {
   "cell_type": "markdown",
   "metadata": {},
   "source": [
    "### 如何处理数据 比 train，test需要的时间更多\n",
    "tensorflow.Dataset 有很多API来处理数据"
   ]
  },
  {
   "cell_type": "code",
   "execution_count": null,
   "metadata": {},
   "outputs": [],
   "source": []
  }
 ],
 "metadata": {
  "kernelspec": {
   "display_name": "Python 3",
   "language": "python",
   "name": "python3"
  },
  "language_info": {
   "codemirror_mode": {
    "name": "ipython",
    "version": 3
   },
   "file_extension": ".py",
   "mimetype": "text/x-python",
   "name": "python",
   "nbconvert_exporter": "python",
   "pygments_lexer": "ipython3",
   "version": "3.7.3"
  }
 },
 "nbformat": 4,
 "nbformat_minor": 2
}
