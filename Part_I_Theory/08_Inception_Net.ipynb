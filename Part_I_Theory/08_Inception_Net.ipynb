{
 "cells": [
  {
   "cell_type": "markdown",
   "metadata": {},
   "source": [
    "## 10分类 10个神经元 Inception Net\n",
    "Accuracy rate after 10k times training：72.9%"
   ]
  },
  {
   "cell_type": "code",
   "execution_count": 1,
   "metadata": {},
   "outputs": [],
   "source": [
    "import tensorflow as tf"
   ]
  },
  {
   "cell_type": "markdown",
   "metadata": {},
   "source": [
    "#### 如果需要使用tf 1.0\n",
    "tf v2.0 does not have placeholder(), .reset_default_graph()."
   ]
  },
  {
   "cell_type": "code",
   "execution_count": 2,
   "metadata": {},
   "outputs": [
    {
     "name": "stdout",
     "output_type": "stream",
     "text": [
      "WARNING:tensorflow:From /Users/bessie/anaconda3/lib/python3.7/site-packages/tensorflow_core/python/compat/v2_compat.py:88: disable_resource_variables (from tensorflow.python.ops.variable_scope) is deprecated and will be removed in a future version.\n",
      "Instructions for updating:\n",
      "non-resource variables are not supported in the long term\n"
     ]
    }
   ],
   "source": [
    "import tensorflow.compat.v1 as tf\n",
    "tf.disable_v2_behavior() "
   ]
  },
  {
   "cell_type": "code",
   "execution_count": 3,
   "metadata": {},
   "outputs": [
    {
     "name": "stdout",
     "output_type": "stream",
     "text": [
      "['data_batch_1', '.DS_Store', 'readme.html', 'batches.meta', 'data_batch_2', 'data_batch_5', 'test_batch', 'data_batch_4', 'data_batch_3']\n"
     ]
    }
   ],
   "source": [
    "#读数据：\n",
    "import os\n",
    "import pickle as cPickle\n",
    "import numpy as np\n",
    "\n",
    "CIFAR_DIR = \"../../../other_datasets/cifar-10-batches-py\"\n",
    "print(os.listdir(CIFAR_DIR))"
   ]
  },
  {
   "cell_type": "code",
   "execution_count": 4,
   "metadata": {},
   "outputs": [],
   "source": [
    "#将数据读取,返回data 和 labels\n",
    "def load_data(filename):\n",
    "    \"\"\"read data from data file.\"\"\"\n",
    "    with open(filename, 'rb') as f:\n",
    "        data = cPickle.load(f, encoding = 'latin1')\n",
    "        return data['data'], data['labels']"
   ]
  },
  {
   "cell_type": "markdown",
   "metadata": {},
   "source": [
    "### 实现Inception Net中分组卷积的封装"
   ]
  },
  {
   "cell_type": "code",
   "execution_count": 5,
   "metadata": {
    "scrolled": true
   },
   "outputs": [],
   "source": [
    "def inception_block(x,\n",
    "                    output_channel_for_each_path,\n",
    "                    name):\n",
    "    \"\"\"inception block implementation\"\"\"\n",
    "    \"\"\"\n",
    "    Args:\n",
    "    - x:\n",
    "    - output_channel_for_each_path: eg. [10, 20, 5]\n",
    "    - name:\n",
    "    \"\"\"\n",
    "    #1. 这个inception net里面，我们固定分组的第一个是1*1cn，第二个是3*3，第三个是5*5\n",
    "    #2. 用户可以规定的是每个cn的输出通道数，例如，[10, 20, 5]\n",
    "    \n",
    "    #如果定义一个conv1的名字是'conv1',以后就不能再定义'conv1'\n",
    "    #但是如果在scope里面，就可以在定义一个'conv1',因为此时的名字是scope_name/conv1\n",
    "    with tf.variable_scope(name): #注意，传入的name在这里被使用：例如后面调用时候的：name = ’inception_3a‘\n",
    "        conv1_1 = tf.layers.conv2d(x, #注意都是对 原始输入图像进行处理\n",
    "                                   output_channel_for_each_path[0],\n",
    "                                   (1,1),\n",
    "                                    strides = (1,1),\n",
    "                                    padding = 'same',\n",
    "                                    activation = tf.nn.relu,\n",
    "                                    name = 'conv1_1')\n",
    "        conv3_3 = tf.layers.conv2d(x, #注意都是对 原始输入图像进行处理\n",
    "                                   output_channel_for_each_path[1],\n",
    "                                   (3,3),\n",
    "                                   strides = (1,1),#注意strides是(1,1),如果写成(3,3)就算是padding也没用，输出的长宽会缩小\n",
    "                                   padding = 'same',\n",
    "                                   activation = tf.nn.relu,\n",
    "                                   name = 'conv3_3')\n",
    "        conv5_5 = tf.layers.conv2d(x, #注意都是对 原始输入图像进行处理\n",
    "                                   output_channel_for_each_path[2],\n",
    "                                   (5,5),\n",
    "                                   strides = (1,1),#注意strides是(1,1),如果写成(5,5)就算是padding也没用\n",
    "                                   padding = 'same',\n",
    "                                   activation = tf.nn.relu,\n",
    "                                   name = 'conv5_5')\n",
    "        max_pooling = tf.layers.max_pooling2d(x,\n",
    "                                              (2,2),\n",
    "                                              (2,2),\n",
    "                                              name = 'max_pooling')\n",
    "        \n",
    "        #现在：\n",
    "        #conv1_1 的输出长宽和图像长宽一样，但是通道为10\n",
    "        #conv3_3, 和conv5_5同理，和输出长宽和图像长宽一样\n",
    "        #所以conv1_1, conv3_3, conv5_5, 可以concatenate，在通道的维度上合并\n",
    "        #但是max_pooling，因为是(2*2)kernel, 所以输出长宽是原来长宽的1/2\n",
    "        #因为tf.layers.max_pooling2d() 没有padding的选项，我们要自己padding:\n",
    "        \n",
    "        max_pooling_shape = max_pooling.get_shape().as_list()[1:]\n",
    "        img_shape = x.get_shape().as_list()[1:]\n",
    "        \n",
    "        #img_shape: [width, height, channel]\n",
    "        width_need_padding = (img_shape[0] - max_pooling_shape[0]) // 2\n",
    "        height_need_padding = (img_shape[1] - max_pooling_shape[1]) // 2\n",
    "        \n",
    "        padded_pooling = tf.pad(max_pooling,\n",
    "                                [[0,0],\n",
    "                                 [width_need_padding, width_need_padding],\n",
    "                                 [height_need_padding, height_need_padding], \n",
    "                                 [0,0]])\n",
    "        \n",
    "        #现在长宽都一样，需要在通道维度上concat，通道是第四个维度，axis = 3\n",
    "        concat_layer = tf.concat(\n",
    "        [conv1_1, conv3_3, conv5_5, padded_pooling],\n",
    "        axis = 3)\n",
    "        \n",
    "        return concat_layer        "
   ]
  },
  {
   "cell_type": "code",
   "execution_count": 6,
   "metadata": {},
   "outputs": [],
   "source": [
    "x = tf.placeholder(tf.float32, [None, 3072])\n",
    "x_image = tf.reshape(x, [-1, 3, 32, 32])\n",
    "x_image = tf.transpose(x_image, perm = [0, 2, 3, 1]) #变成[-1, 32, 32, 3]\n",
    "#x_image： 32 * 32\n",
    "y = tf.placeholder(tf.int64, [None])"
   ]
  },
  {
   "cell_type": "markdown",
   "metadata": {},
   "source": [
    "### 开始实现Inception Net"
   ]
  },
  {
   "cell_type": "code",
   "execution_count": 7,
   "metadata": {},
   "outputs": [
    {
     "name": "stdout",
     "output_type": "stream",
     "text": [
      "WARNING:tensorflow:From <ipython-input-7-8dbbe3ec1205>:6: conv2d (from tensorflow.python.layers.convolutional) is deprecated and will be removed in a future version.\n",
      "Instructions for updating:\n",
      "Use `tf.keras.layers.Conv2D` instead.\n",
      "WARNING:tensorflow:From /Users/bessie/anaconda3/lib/python3.7/site-packages/tensorflow_core/python/layers/convolutional.py:424: Layer.apply (from tensorflow.python.keras.engine.base_layer) is deprecated and will be removed in a future version.\n",
      "Instructions for updating:\n",
      "Please use `layer.__call__` method instead.\n",
      "WARNING:tensorflow:From <ipython-input-7-8dbbe3ec1205>:12: max_pooling2d (from tensorflow.python.layers.pooling) is deprecated and will be removed in a future version.\n",
      "Instructions for updating:\n",
      "Use keras.layers.MaxPooling2D instead.\n",
      "WARNING:tensorflow:From <ipython-input-7-8dbbe3ec1205>:42: flatten (from tensorflow.python.layers.core) is deprecated and will be removed in a future version.\n",
      "Instructions for updating:\n",
      "Use keras.layers.Flatten instead.\n"
     ]
    }
   ],
   "source": [
    "conv1 = tf.layers.conv2d(x_image,\n",
    "                         32, #output channel number\n",
    "                         (3,3), #kenel size\n",
    "                          padding = 'same', #使得输出和我的输入一样大，如果不想padding就padding = 'valid'\n",
    "                          activation= tf.nn.relu,\n",
    "                          name = 'conv1' # 输出的时候，看名字我们知道是哪个层，好调试\n",
    "                         )\n",
    "\n",
    "pooling1 = tf.layers.max_pooling2d(conv1, # 输入是conv1\n",
    "                                  (2,2), # kernel size\n",
    "                                  (2,2), #步长：至少大于kernel size才能达到图像信息压缩\n",
    "                                   name = 'pool1' # 输出的时候，看名字我们知道是哪个层，好调试\n",
    "                                  )\n",
    "\n",
    "inception_2a = inception_block(pooling1,  #注意这里不是pool1，而是pooling1\n",
    "                               [16, 16, 16],\n",
    "                               name = 'inception_2a')\n",
    "\n",
    "inception_2b = inception_block(inception_2a, \n",
    "                               [16, 16, 16],\n",
    "                               name = 'inception_2b')\n",
    "\n",
    "pooling2 = tf.layers.max_pooling2d(inception_2b,\n",
    "                                   (2,2),\n",
    "                                   (2,2),\n",
    "                                   name = 'pool2')\n",
    "\n",
    "inception_3a = inception_block(pooling2, \n",
    "                               [16, 16, 16],\n",
    "                               name = 'inception_3a')\n",
    "\n",
    "inception_3b = inception_block(inception_3a, \n",
    "                               [16, 16, 16],\n",
    "                               name = 'inception_3b')\n",
    "\n",
    "pooling3 = tf.layers.max_pooling2d(inception_3b,\n",
    "                                   (2,2),\n",
    "                                   (2,2),\n",
    "                                   name = 'pool3')\n",
    "\n",
    "#将pooling层展开\n",
    "flatten_pooling3 = tf.layers.flatten(pooling3)"
   ]
  },
  {
   "cell_type": "markdown",
   "metadata": {},
   "source": [
    "### 全连接层"
   ]
  },
  {
   "cell_type": "code",
   "execution_count": 8,
   "metadata": {},
   "outputs": [
    {
     "name": "stdout",
     "output_type": "stream",
     "text": [
      "WARNING:tensorflow:From <ipython-input-8-21e5008f8228>:1: dense (from tensorflow.python.layers.core) is deprecated and will be removed in a future version.\n",
      "Instructions for updating:\n",
      "Use keras.layers.Dense instead.\n"
     ]
    }
   ],
   "source": [
    "y_ = tf.layers.dense(flatten_pooling3, 10) #输出10分类\n",
    "#最后test准确率是：[Test] Step: 10000, acc: 0.72500"
   ]
  },
  {
   "cell_type": "code",
   "execution_count": 9,
   "metadata": {},
   "outputs": [],
   "source": [
    "loss = tf.losses.sparse_softmax_cross_entropy(labels = y, logits = y_)"
   ]
  },
  {
   "cell_type": "code",
   "execution_count": 10,
   "metadata": {},
   "outputs": [],
   "source": [
    "#bool:\n",
    "#predict = p_y_1 > 0.5\n",
    "\n",
    "#indexes(int):\n",
    "#第一个维度是同一类别下每个样本，第二维度是同一个样本下的每个类别（一个类别有一个概率值）\n",
    "predict_indexes = tf.argmax(y_, 1) #1代表第二个维度，求一个样本，哪个类别的概率值最大\n",
    "\n",
    "#int64:\n",
    "#predict_float = tf.cast(predict, tf.int64)\n",
    "\n",
    "#bool:\n",
    "correct_prediction = tf.equal(predict_indexes, y) #两个int64的array比较\n",
    "\n",
    "#float64:\n",
    "correct_prediction_float = tf.cast(correct_prediction, tf.float32)\n",
    "\n",
    "#float64, 因为correct_prediction_float是[1.0, 0.0, 1.0, ...] 而reduce_mean就是看有多少1，然后除以len\n",
    "accuracy = tf.reduce_mean(correct_prediction_float)"
   ]
  },
  {
   "cell_type": "markdown",
   "metadata": {},
   "source": [
    "### AdamOptimizer\n",
    "AdamOptimizer(learning_rate)：梯度下降的变种，是反向传播算法的变种，初始learning_rate是0.01，目标最小化loss"
   ]
  },
  {
   "cell_type": "code",
   "execution_count": 11,
   "metadata": {},
   "outputs": [],
   "source": [
    "with tf.name_scope('train_op'):\n",
    "    train_op = tf.train.AdamOptimizer(1e-3).minimize(loss)"
   ]
  },
  {
   "cell_type": "markdown",
   "metadata": {},
   "source": [
    "### cifar10 数据处理\n",
    "因为mini-batch，所以需要在cifar10上循环遍历数据，每次在sess.run()的feed_dict塞入不同数据"
   ]
  },
  {
   "cell_type": "code",
   "execution_count": 12,
   "metadata": {},
   "outputs": [],
   "source": [
    "#filenames: 对 训练数据集 和 测试数据集 是分开的\n",
    "#need_shuffle: 训练数据集需要shuffle，测试数据集不需要shuffle\n",
    "class CifarData:\n",
    "    def __init__(self, filenames, need_shuffle):\n",
    "        #读入数据：\n",
    "        all_data = []\n",
    "        all_labels = []\n",
    "        for filename in filenames:\n",
    "            data, labels = load_data(filename)\n",
    "            #data的对应位置的图像的label，也是label对应位置的label，所以把它们两个zip起来\n",
    "            all_data.append(data)\n",
    "            all_labels.append(labels)\n",
    "            #不再是只调取0，1类 \n",
    "#             for item, label in zip(data, labels):\n",
    "#                 if label in [0,1]:\n",
    "#                     all_data.append(item)\n",
    "#                     all_labels.append(label)\n",
    "        #data是numpy的矩阵，\n",
    "        #item是numpy的向量\n",
    "        #all_data里面包含了许多numpy的向量，现在我们将这些向量纵向合并到一起，成为一个矩阵：用np.vstack()\n",
    "        #all_labels里面包含了许多label的向量，现在我们将这些向量横向合并到一起，成为一个矩阵（但是这个矩阵只有一行：n * 1）：用np.hstack()\n",
    "        self._data = np.vstack(all_data) \n",
    "        self._data = self._data / 127.5 - 1 #最后做的改进：将0-255的值二分成0，1\n",
    "        self._labels = np.hstack(all_labels)\n",
    "        #print(self._data.shape)\n",
    "        #print(self._labels.shape)\n",
    "        self._num_examples = self._data.shape[0] #多少个样本\n",
    "        self._need_shuffle = need_shuffle\n",
    "        self._indicator = 0 #遍历到数据集的哪个位置\n",
    "        if self._need_shuffle:\n",
    "            self._shuffle_data()\n",
    "    \n",
    "    def _shuffle_data(self): #在训练集上shuffle\n",
    "        # np.random.permutation(6) -> [3,2,5,1,4,0]\n",
    "        p = np.random.permutation(self._num_examples) #得到一个混的全排\n",
    "        self._data = self._data[p]\n",
    "        self._labels = self._labels[p]\n",
    "        \n",
    "    def next_batch(self, batch_size): #每次返回batch_size个数个样本\n",
    "        \"\"\"return batch_size examples as a batch.\"\"\"\n",
    "        end_indicator = self._indicator + batch_size\n",
    "        if end_indicator > self._num_examples:\n",
    "            if self._need_shuffle:\n",
    "                self._shuffle_data() #就算遍历完，可是如果可以shuffle，我们的数据可以复用\n",
    "                self._indicator = 0\n",
    "                end_indicator = batch_size + 0\n",
    "            else:\n",
    "                raise Exception(\"have no more examples\") #已经遍历完了并且不能shuffle\n",
    "        if end_indicator > self._num_examples:\n",
    "            #此时说明我们输入的batch_size比我们的所有样本都要大\n",
    "            raise Exception(\"batch size is larger than example size\")\n",
    "        batch_data = self._data[self._indicator : end_indicator]\n",
    "        batch_labels = self._labels[self._indicator : end_indicator]\n",
    "        self._indicator = end_indicator\n",
    "        return batch_data, batch_labels"
   ]
  },
  {
   "cell_type": "markdown",
   "metadata": {},
   "source": [
    "### 测试我们的CifarData\n",
    "1. 首先cifar10拥有50k个样本（10个类别），我们现在是二分类问题，只选取label为0，1的\n",
    "2. 所以应该有 50k * (1/5) = 10k个样本 (10000, 3072)"
   ]
  },
  {
   "cell_type": "code",
   "execution_count": 13,
   "metadata": {},
   "outputs": [],
   "source": [
    "train_filenames = [os.path.join(CIFAR_DIR, 'data_batch_%d' % i) for i in range(1, 6)]\n",
    "test_filenames = [os.path.join(CIFAR_DIR, 'test_batch') ]\n",
    "\n",
    "train_data = CifarData(train_filenames, True)"
   ]
  },
  {
   "cell_type": "code",
   "execution_count": 14,
   "metadata": {},
   "outputs": [],
   "source": [
    "test_data = CifarData(test_filenames, False)"
   ]
  },
  {
   "cell_type": "code",
   "execution_count": 15,
   "metadata": {},
   "outputs": [],
   "source": [
    "batch_data, batch_labels = train_data.next_batch(3)"
   ]
  },
  {
   "cell_type": "markdown",
   "metadata": {},
   "source": [
    "### 执行流程图"
   ]
  },
  {
   "cell_type": "code",
   "execution_count": 18,
   "metadata": {},
   "outputs": [
    {
     "name": "stdout",
     "output_type": "stream",
     "text": [
      "[Train] Step: 100, loss: 1.90456, acc: 0.30000\n",
      "[Train] Step: 200, loss: 1.61109, acc: 0.50000\n",
      "[Train] Step: 300, loss: 1.74137, acc: 0.35000\n",
      "[Train] Step: 400, loss: 1.21318, acc: 0.50000\n",
      "[Train] Step: 500, loss: 1.59983, acc: 0.40000\n",
      "[Test] Step: 500, acc: 0.46100\n",
      "[Train] Step: 600, loss: 1.34017, acc: 0.45000\n",
      "[Train] Step: 700, loss: 1.30574, acc: 0.60000\n",
      "[Train] Step: 800, loss: 1.05935, acc: 0.70000\n",
      "[Train] Step: 900, loss: 0.95500, acc: 0.70000\n",
      "[Train] Step: 1000, loss: 1.06200, acc: 0.60000\n",
      "[Test] Step: 1000, acc: 0.56000\n"
     ]
    }
   ],
   "source": [
    "init = tf.global_variables_initializer() #执行初始化\n",
    "#开启Session，相当于打开绘画\n",
    "#sess.run()执行计算图\n",
    "#1. 计算目标:\n",
    "#表示要训练：[loss, accuracy, train_op]\n",
    "#表示要测试：[loss, accuracy]\n",
    "\n",
    "#2. feed_dict:塞入数据\n",
    "# x: x要塞的数据\n",
    "# 因为mini-batch，所以需要在cifar10上循环遍历数据，每次塞入不同数据\n",
    "\n",
    "batch_size = 20 #每次取20张图来 训练 或者 测试\n",
    "train_steps = 1000\n",
    "test_steps = 100\n",
    "\n",
    "with tf.Session() as sess:\n",
    "    sess.run(init)\n",
    "    for i in range(train_steps):\n",
    "        batch_data, batch_labels = train_data.next_batch(batch_size)\n",
    "        #因为train_op返回的东西没有意义，所以用 _ 下划线接住返回值\n",
    "        loss_val, accu_val, _ = sess.run(\n",
    "            [loss, accuracy, train_op], \n",
    "            feed_dict = {\n",
    "                x: batch_data, \n",
    "                y: batch_labels})  #注意格式！\n",
    "        #===============================\n",
    "        #======训练=====================\n",
    "        if (i+1) % 100 == 0: #使用(i+1)就可以输出500和1000\n",
    "            print(\"[Train] Step: %d, loss: %4.5f, acc: %4.5f\"\\\n",
    "                 % (i+1, loss_val, accu_val))\n",
    "        #===============================\n",
    "        #======测试=====================\n",
    "        if (i+1) % 500 == 0: #使用(i+1)就可以输出500和1000\n",
    "            test_data = CifarData(test_filenames, False)\n",
    "            all_test_acc_vals = []\n",
    "            for j in range(test_steps):\n",
    "                test_batch_data, test_batch_labels \\\n",
    "                    = test_data.next_batch(batch_size)\n",
    "                test_acc_val = sess.run(\n",
    "                    [accuracy],\n",
    "                    feed_dict = {\n",
    "                        x: test_batch_data,\n",
    "                        y: test_batch_labels\n",
    "                    })\n",
    "                all_test_acc_vals.append(test_acc_val)\n",
    "            test_acc = np.mean(all_test_acc_vals)\n",
    "            print(\"[Test] Step: %d, acc: %4.5f\" % (i+1, test_acc))"
   ]
  },
  {
   "cell_type": "code",
   "execution_count": null,
   "metadata": {},
   "outputs": [],
   "source": []
  }
 ],
 "metadata": {
  "kernelspec": {
   "display_name": "Python 3",
   "language": "python",
   "name": "python3"
  },
  "language_info": {
   "codemirror_mode": {
    "name": "ipython",
    "version": 3
   },
   "file_extension": ".py",
   "mimetype": "text/x-python",
   "name": "python",
   "nbconvert_exporter": "python",
   "pygments_lexer": "ipython3",
   "version": "3.7.3"
  }
 },
 "nbformat": 4,
 "nbformat_minor": 2
}
