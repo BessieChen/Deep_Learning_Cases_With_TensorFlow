{
 "cells": [
  {
   "cell_type": "markdown",
   "metadata": {},
   "source": [
    "#### Activation:\n",
    "relu, sigmoid, tanh\n",
    "\n",
    "#### weight initializer:\n",
    "he, xavier, normal\n",
    "\n",
    "#### optimizer:\n",
    "Adam, Momemtum, Gradient Descent"
   ]
  },
  {
   "cell_type": "code",
   "execution_count": 1,
   "metadata": {},
   "outputs": [
    {
     "name": "stdout",
     "output_type": "stream",
     "text": [
      "WARNING:tensorflow:From /Users/bessie/anaconda3/lib/python3.7/site-packages/tensorflow_core/python/compat/v2_compat.py:88: disable_resource_variables (from tensorflow.python.ops.variable_scope) is deprecated and will be removed in a future version.\n",
      "Instructions for updating:\n",
      "non-resource variables are not supported in the long term\n"
     ]
    }
   ],
   "source": [
    "import tensorflow as tf\n",
    "import tensorflow.compat.v1 as tf\n",
    "tf.disable_v2_behavior() "
   ]
  },
  {
   "cell_type": "code",
   "execution_count": 2,
   "metadata": {},
   "outputs": [],
   "source": [
    "#读数据：\n",
    "import os\n",
    "import pickle as cPickle\n",
    "import numpy as np\n",
    "\n",
    "CIFAR_DIR = \"../../../other_datasets/cifar-10-batches-py\""
   ]
  },
  {
   "cell_type": "code",
   "execution_count": 3,
   "metadata": {},
   "outputs": [],
   "source": [
    "#将数据读取,返回data 和 labels\n",
    "def load_data(filename):\n",
    "    \"\"\"read data from data file.\"\"\"\n",
    "    with open(filename, 'rb') as f:\n",
    "        data = cPickle.load(f, encoding = 'latin1')\n",
    "        return data['data'], data['labels']"
   ]
  },
  {
   "cell_type": "code",
   "execution_count": 4,
   "metadata": {},
   "outputs": [],
   "source": [
    "x = tf.placeholder(tf.float32, [None, 3072])\n",
    "x_image = tf.reshape(x, [-1, 3, 32, 32])\n",
    "x_image = tf.transpose(x_image, perm = [0, 2, 3, 1]) #变成[-1, 32, 32, 3]\n",
    "#x_image： 32 * 32\n",
    "y = tf.placeholder(tf.int64, [None])"
   ]
  },
  {
   "cell_type": "markdown",
   "metadata": {},
   "source": [
    "#### 将可变activation功能封装："
   ]
  },
  {
   "cell_type": "code",
   "execution_count": null,
   "metadata": {},
   "outputs": [],
   "source": [
    "def convnet(inputs, activation, kernel_initializer):\n",
    "    conv1_1 = tf.layers.conv2d(inputs,\n",
    "                         32, #output channel number\n",
    "                         (3,3), #kenel size\n",
    "                          padding = 'same', #使得输出和我的输入一样大，如果不想padding就padding = 'valid'\n",
    "                          activation= activation,\n",
    "                          kernel_initializer = kernel_initializer, #默认是tf.glorot_uniform_initializer\n",
    "                          name = 'conv1_1' # 输出的时候，看名字我们知道是哪个层，好调试\n",
    "                         )\n",
    "\n",
    "    conv1_2 = tf.layers.conv2d(conv1_1,\n",
    "                             32, #output channel number\n",
    "                             (3,3), #kenel size\n",
    "                              padding = 'same', #使得输出和我的输入一样大，如果不想padding就padding = 'valid'\n",
    "                              activation= activation,\n",
    "                              kernel_initializer = kernel_initializer, #默认是tf.glorot_uniform_initializer\n",
    "                              name = 'conv1_2' # 输出的时候，看名字我们知道是哪个层，好调试\n",
    "                             )\n",
    "    pooling1 = tf.layers.max_pooling2d(conv1_2, # 输入是conv1\n",
    "                                      (2,2), # kernel size\n",
    "                                      (2,2), #步长：至少大于kernel size才能达到图像信息压缩\n",
    "                                       name = 'pool1' # 输出的时候，看名字我们知道是哪个层，好调试\n",
    "                                      )\n",
    "\n",
    "    conv2_1 = tf.layers.conv2d(pooling1,\n",
    "                             32, #output channel number\n",
    "                             (3,3), #kenel size\n",
    "                              padding = 'same', #使得输出和我的输入一样大，如果不想padding就padding = 'valid'\n",
    "                              activation= activation,\n",
    "                              kernel_initializer = kernel_initializer,\n",
    "                              name = 'conv2_1' # 输出的时候，看名字我们知道是哪个层，好调试\n",
    "                             )\n",
    "\n",
    "    conv2_2 = tf.layers.conv2d(pooling1,\n",
    "                             32, #output channel number\n",
    "                             (3,3), #kenel size\n",
    "                              padding = 'same', #使得输出和我的输入一样大，如果不想padding就padding = 'valid'\n",
    "                              activation= activation,\n",
    "                              kernel_initializer = kernel_initializer,\n",
    "                              name = 'conv2_2' # 输出的时候，看名字我们知道是哪个层，好调试\n",
    "                             )\n",
    "\n",
    "    pooling2 = tf.layers.max_pooling2d(conv2_2, # 输入是conv1\n",
    "                                      (2,2), # kernel size\n",
    "                                      (2,2), #步长：至少大于kernel size才能达到图像信息压缩\n",
    "                                       name = 'pool2' # 输出的时候，看名字我们知道是哪个层，好调试\n",
    "                                      )\n",
    "\n",
    "    conv3_1 = tf.layers.conv2d(pooling2,\n",
    "                             32, #output channel number\n",
    "                             (3,3), #kenel size\n",
    "                              padding = 'same', #使得输出和我的输入一样大，如果不想padding就padding = 'valid'\n",
    "                              activation= activation,\n",
    "                              kernel_initializer = kernel_initializer,\n",
    "                              name = 'conv3_1' # 输出的时候，看名字我们知道是哪个层，好调试\n",
    "                             )\n",
    "\n",
    "    conv3_2 = tf.layers.conv2d(pooling2,\n",
    "                             32, #output channel number\n",
    "                             (3,3), #kenel size\n",
    "                              padding = 'same', #使得输出和我的输入一样大，如果不想padding就padding = 'valid'\n",
    "                              activation= activation,\n",
    "                              kernel_initializer = kernel_initializer,\n",
    "                              name = 'conv3_2' # 输出的时候，看名字我们知道是哪个层，好调试\n",
    "                             )\n",
    "\n",
    "    pooling3 = tf.layers.max_pooling2d(conv3_2, # 输入是conv1\n",
    "                                      (2,2), # kernel size\n",
    "                                      (2,2), #步长：至少大于kernel size才能达到图像信息压缩\n",
    "                                       name = 'pool3' # 输出的时候，看名字我们知道是哪个层，好调试\n",
    "                                      )\n",
    "    flatten = tf.layers.flatten(pooling3)\n",
    "    return flatten\n"
   ]
  },
  {
   "cell_type": "code",
   "execution_count": 7,
   "metadata": {},
   "outputs": [
    {
     "name": "stdout",
     "output_type": "stream",
     "text": [
      "WARNING:tensorflow:From <ipython-input-7-9947d843e236>:1: dense (from tensorflow.python.layers.core) is deprecated and will be removed in a future version.\n",
      "Instructions for updating:\n",
      "Use keras.layers.Dense instead.\n"
     ]
    }
   ],
   "source": [
    "#flatten = convnet(x_image, tf.nn.relu) #train 10k: 73.35%\n",
    "#flatten = convnet(x_image, tf.nn.sigmoid) #train 10k: 53.59%\n",
    "\n",
    "#truncated_normal_initializer:\n",
    "#均值是0，标准差是0.02, 但是这个会保证我们的值不会大于某个数，小于某个数。保证数字在合理范围\n",
    "flatten = convnet(x_image, tf.nn.relu, tf.truncated_normal_initializer(stddev = 0.02)) \n",
    "\n",
    "#其他方法：基于tf.nn.relu\n",
    "#1. 默认初始化：tf.glorot_uniform_initializer: 76.53% after 100k train\n",
    "#2. tf.truncated_normal_initializer: 78.04% after 100k train\n",
    "#3. tf.keras.initializers.he_normal: 71.52% after 100k train (在这里表现不好，可能是因为我们现在的网络较浅，网络深的时候何凯明的方法会更好)"
   ]
  },
  {
   "cell_type": "code",
   "execution_count": null,
   "metadata": {},
   "outputs": [],
   "source": [
    "y_ = tf.layers.dense(flatten, 10) #输出10分类\n",
    "#最后test准确率是：[Test] Step: 10000, acc: 0.72500"
   ]
  },
  {
   "cell_type": "code",
   "execution_count": 8,
   "metadata": {},
   "outputs": [],
   "source": [
    "loss = tf.losses.sparse_softmax_cross_entropy(labels = y, logits = y_)"
   ]
  },
  {
   "cell_type": "code",
   "execution_count": 9,
   "metadata": {},
   "outputs": [],
   "source": [
    "#bool:\n",
    "#predict = p_y_1 > 0.5\n",
    "\n",
    "#indexes(int):\n",
    "#第一个维度是同一类别下每个样本，第二维度是同一个样本下的每个类别（一个类别有一个概率值）\n",
    "predict_indexes = tf.argmax(y_, 1) #1代表第二个维度，求一个样本，哪个类别的概率值最大\n",
    "\n",
    "#int64:\n",
    "#predict_float = tf.cast(predict, tf.int64)\n",
    "\n",
    "#bool:\n",
    "correct_prediction = tf.equal(predict_indexes, y) #两个int64的array比较\n",
    "\n",
    "#float64:\n",
    "correct_prediction_float = tf.cast(correct_prediction, tf.float32)\n",
    "\n",
    "#float64, 因为correct_prediction_float是[1.0, 0.0, 1.0, ...] 而reduce_mean就是看有多少1，然后除以len\n",
    "accuracy = tf.reduce_mean(correct_prediction_float)"
   ]
  },
  {
   "cell_type": "markdown",
   "metadata": {},
   "source": [
    "### Optimizer:\n",
    "1. tf.train.AdamOptimizer(1e-3).minimize(loss) #\n",
    "\n",
    "2. GradientDescentOptimizer(1e-4).minimize(loss):这个初始化要小一点，否则loss非但不会缓慢下降，还会上升: 12.35% train 100k\n",
    "\n",
    "3. MomentumOptimizer(learning_rate = 1e-4, momentum = 0.9).minimize(loss) : 37.75% train 100k\n",
    "\n",
    "4. 为何修改为GD和M后optimizer不如Adam表现的好？随机表现都有1/10=10%的准确率：\n",
    "\n",
    "4.1. initializer incorrect（NN是一个系统工程，我们换了Optimizer，相应的intializer也要换）\n",
    "\n",
    "4.2. 不充分的训练（Adam训练比较快，所以100k就够了。可能GD,M需要更多次的训练，才能超过Adam的效果）"
   ]
  },
  {
   "cell_type": "code",
   "execution_count": 10,
   "metadata": {},
   "outputs": [],
   "source": [
    "with tf.name_scope('train_op'):\n",
    "    #train_op = tf.train.AdamOptimizer(1e-3).minimize(loss)\n",
    "    #train_op = tf.train.GradientDescent(1e-4).minimize(loss)\n",
    "    train_op = tf.train.MomentumOptimizer(learning_rate = 1e-4, momentum = 0.9).minimize(loss)"
   ]
  },
  {
   "cell_type": "markdown",
   "metadata": {},
   "source": [
    "#### 使用tensorboard\n",
    "1. 第一步：指定面板图上显示的变量，为了防止显示太多过载\n",
    "\n",
    "2. 面板图的变量是tensorflow某个网络节点的值，所以在网络构建tf.name_scope()之后，来进行第一步\n",
    "\n",
    "3. tensorboard的api在tf.summary中，其中标量使用scaler"
   ]
  },
  {
   "cell_type": "code",
   "execution_count": 11,
   "metadata": {},
   "outputs": [],
   "source": [
    "#最重要的想输出的给tensorboard的是loss 和 accuracy\n",
    "#因为是标量，所以用tf.summary.scaler()\n",
    "#tf.summary.scaler()存储方法: 'loss' : <10, 1.1>, <20, 1.08>\n",
    "#'loss'是key，然后<10, 1.1>意思是在第10次迭代的时候loss = 1.1\n",
    "\n",
    "loss_summary = tf.summary.scalar('loss', loss)\n",
    "accuracy_summary = tf.summary.scalar('accuracy', accuracy)"
   ]
  },
  {
   "cell_type": "code",
   "execution_count": 12,
   "metadata": {},
   "outputs": [],
   "source": [
    "#给输入图像建立summary，因为图像是3通道的32*32图像，所以使用tf.summary.image()\n",
    "#不过注意，在CifarData中，我们将图像像素点归一化了，从[0,255]变成[0,1], 参见code：self._data = self._data / 127.5 - 1 \n",
    "#所以我们不能直接使用x_image, 因为它是[0,1], 而是要逆归一化：\n",
    "source_image = (x_image + 1) * 127.5\n",
    "inputs_summary = tf.summary.image('inputs_image', source_image)"
   ]
  },
  {
   "cell_type": "code",
   "execution_count": 13,
   "metadata": {},
   "outputs": [],
   "source": [
    "# 多给一些变量做summary，让它输出到tensorboard\n",
    "# 功能性函数，打印变量的各种统计值：\n",
    "def variable_summary(var, name):\n",
    "    \"\"\"Constructs summary for statistics of a variable\"\"\"\n",
    "    #var: 计算summary的变量\n",
    "    #name: 指定命名空间，防止冲突\n",
    "    with tf.name_scope(name):\n",
    "        mean = tf.reduce_mean(var) #这个var可以是一个大矩阵，但这个reduce_mean可以计算出全部的均值，返回一个值\n",
    "        with tf.name_scope('std_dev'):\n",
    "            stddev = tf.sqrt(tf.reduce_mean(tf.square( var - mean )))\n",
    "            \n",
    "        tf.summary.scalar('mean', mean)\n",
    "        tf.summary.scalar('stddev',stddev)\n",
    "        tf.summary.scalar('min', tf.reduce_min(var)) #矩阵的全局的min\n",
    "        tf.summary.scalar('max', tf.reduce_max(var))\n",
    "        tf.summary.histogram('histogram', var) #变量的直方图\n",
    "        \n",
    "\n",
    "#将每个卷积层的各种统计值打印到tensorboard\n",
    "with tf.name_scope('summary'):\n",
    "    variable_summary(conv1_1, 'conv1_1')\n",
    "    variable_summary(conv1_2, 'conv1_2')\n",
    "    variable_summary(conv2_1, 'conv2_1')\n",
    "    variable_summary(conv2_2, 'conv2_2')\n",
    "    variable_summary(conv3_1, 'conv3_1')\n",
    "    variable_summary(conv3_2, 'conv3_2')"
   ]
  },
  {
   "cell_type": "code",
   "execution_count": 14,
   "metadata": {},
   "outputs": [],
   "source": [
    "# 可能会生成许多变量，导致sess.run()中的变量很长\n",
    "# 采用merge_all(), merge() 解决\n",
    "\n",
    "#用于train\n",
    "merged_summary = tf.summary.merge_all() #合并所有之前tf.summary.xx(), 包括我们variable_summary()中的各种统计值\n",
    "\n",
    "#用于test\n",
    "merged_summary_test = tf.summary.merge([loss_summary, accuracy_summary]) #个性化合并"
   ]
  },
  {
   "cell_type": "code",
   "execution_count": 15,
   "metadata": {},
   "outputs": [],
   "source": [
    "# 我们需要指定一个文件夹\n",
    "LOG_DIR = '.' #这是当前文件夹\n",
    "run_label = 'run_vgg_tensorboard' #这是子文件夹\n",
    "run_dir = os.path.join(LOG_DIR, run_label) #子文件夹的总路径\n",
    "if not os.path.exists(run_dir):\n",
    "    os.mkdir(run_dir)\n",
    "    \n",
    "# 分别设置两个文件夹\n",
    "train_log_dir = os.path.join(run_dir, 'train')\n",
    "test_log_dir = os.path.join(run_dir, 'test')\n",
    "\n",
    "if not os.path.exists(train_log_dir):\n",
    "    os.mkdir(train_log_dir)\n",
    "if not os.path.exists(test_log_dir):\n",
    "    os.mkdir(test_log_dir)"
   ]
  },
  {
   "cell_type": "markdown",
   "metadata": {},
   "source": [
    "#### 使用tensorboard\n",
    "1. 第二步：训练过程中将这些变量计算出来。输出到dir的文件中"
   ]
  },
  {
   "cell_type": "markdown",
   "metadata": {},
   "source": [
    "### cifar10 数据处理\n",
    "因为mini-batch，所以需要在cifar10上循环遍历数据，每次在sess.run()的feed_dict塞入不同数据"
   ]
  },
  {
   "cell_type": "code",
   "execution_count": 16,
   "metadata": {},
   "outputs": [],
   "source": [
    "#filenames: 对 训练数据集 和 测试数据集 是分开的\n",
    "#need_shuffle: 训练数据集需要shuffle，测试数据集不需要shuffle\n",
    "class CifarData:\n",
    "    def __init__(self, filenames, need_shuffle):\n",
    "        #读入数据：\n",
    "        all_data = []\n",
    "        all_labels = []\n",
    "        for filename in filenames:\n",
    "            data, labels = load_data(filename)\n",
    "            #data的对应位置的图像的label，也是label对应位置的label，所以把它们两个zip起来\n",
    "            all_data.append(data)\n",
    "            all_labels.append(labels)\n",
    "            #不再是只调取0，1类 \n",
    "#             for item, label in zip(data, labels):\n",
    "#                 if label in [0,1]:\n",
    "#                     all_data.append(item)\n",
    "#                     all_labels.append(label)\n",
    "        #data是numpy的矩阵，\n",
    "        #item是numpy的向量\n",
    "        #all_data里面包含了许多numpy的向量，现在我们将这些向量纵向合并到一起，成为一个矩阵：用np.vstack()\n",
    "        #all_labels里面包含了许多label的向量，现在我们将这些向量横向合并到一起，成为一个矩阵（但是这个矩阵只有一行：n * 1）：用np.hstack()\n",
    "        self._data = np.vstack(all_data) \n",
    "        self._data = self._data / 127.5 - 1 #最后做的改进：将0-255的值二分成0，1\n",
    "        self._labels = np.hstack(all_labels)\n",
    "        #print(self._data.shape)\n",
    "        #print(self._labels.shape)\n",
    "        self._num_examples = self._data.shape[0] #多少个样本\n",
    "        self._need_shuffle = need_shuffle\n",
    "        self._indicator = 0 #遍历到数据集的哪个位置\n",
    "        if self._need_shuffle:\n",
    "            self._shuffle_data()\n",
    "    \n",
    "    def _shuffle_data(self): #在训练集上shuffle\n",
    "        # np.random.permutation(6) -> [3,2,5,1,4,0]\n",
    "        p = np.random.permutation(self._num_examples) #得到一个混的全排\n",
    "        self._data = self._data[p]\n",
    "        self._labels = self._labels[p]\n",
    "        \n",
    "    def next_batch(self, batch_size): #每次返回batch_size个数个样本\n",
    "        \"\"\"return batch_size examples as a batch.\"\"\"\n",
    "        end_indicator = self._indicator + batch_size\n",
    "        if end_indicator > self._num_examples:\n",
    "            if self._need_shuffle:\n",
    "                self._shuffle_data() #就算遍历完，可是如果可以shuffle，我们的数据可以复用\n",
    "                self._indicator = 0\n",
    "                end_indicator = batch_size + 0\n",
    "            else:\n",
    "                raise Exception(\"have no more examples\") #已经遍历完了并且不能shuffle\n",
    "        if end_indicator > self._num_examples:\n",
    "            #此时说明我们输入的batch_size比我们的所有样本都要大\n",
    "            raise Exception(\"batch size is larger than example size\")\n",
    "        batch_data = self._data[self._indicator : end_indicator]\n",
    "        batch_labels = self._labels[self._indicator : end_indicator]\n",
    "        self._indicator = end_indicator\n",
    "        return batch_data, batch_labels"
   ]
  },
  {
   "cell_type": "markdown",
   "metadata": {},
   "source": [
    "### 测试我们的CifarData\n",
    "1. 首先cifar10拥有50k个样本（10个类别），我们现在是二分类问题，只选取label为0，1的\n",
    "2. 所以应该有 50k * (1/5) = 10k个样本 (10000, 3072)"
   ]
  },
  {
   "cell_type": "code",
   "execution_count": 17,
   "metadata": {},
   "outputs": [],
   "source": [
    "train_filenames = [os.path.join(CIFAR_DIR, 'data_batch_%d' % i) for i in range(1, 6)]\n",
    "test_filenames = [os.path.join(CIFAR_DIR, 'test_batch') ]\n",
    "\n",
    "train_data = CifarData(train_filenames, True)"
   ]
  },
  {
   "cell_type": "code",
   "execution_count": 18,
   "metadata": {},
   "outputs": [],
   "source": [
    "test_data = CifarData(test_filenames, False)"
   ]
  },
  {
   "cell_type": "code",
   "execution_count": 19,
   "metadata": {},
   "outputs": [],
   "source": [
    "batch_data, batch_labels = train_data.next_batch(3)"
   ]
  },
  {
   "cell_type": "markdown",
   "metadata": {},
   "source": [
    "### 执行流程图"
   ]
  },
  {
   "cell_type": "code",
   "execution_count": 20,
   "metadata": {},
   "outputs": [
    {
     "name": "stdout",
     "output_type": "stream",
     "text": [
      "[Train] Step: 1000, loss: 1.25953, acc: 0.45000\n",
      "[Train] Step: 2000, loss: 1.50925, acc: 0.60000\n",
      "[Train] Step: 3000, loss: 0.90767, acc: 0.75000\n",
      "[Train] Step: 4000, loss: 0.94315, acc: 0.65000\n",
      "[Train] Step: 5000, loss: 0.99022, acc: 0.70000\n",
      "[Test] Step: 5000, acc: 0.68250\n",
      "[Train] Step: 6000, loss: 1.37639, acc: 0.55000\n",
      "[Train] Step: 7000, loss: 0.97922, acc: 0.55000\n",
      "[Train] Step: 8000, loss: 0.56823, acc: 0.75000\n",
      "[Train] Step: 9000, loss: 1.06372, acc: 0.60000\n",
      "[Train] Step: 10000, loss: 0.68338, acc: 0.80000\n",
      "[Test] Step: 10000, acc: 0.72950\n"
     ]
    }
   ],
   "source": [
    "init = tf.global_variables_initializer() #执行初始化\n",
    "#开启Session，相当于打开绘画\n",
    "#sess.run()执行计算图\n",
    "#1. 计算目标:\n",
    "#表示要训练：[loss, accuracy, train_op]\n",
    "#表示要测试：[loss, accuracy]\n",
    "\n",
    "#2. feed_dict:塞入数据\n",
    "# x: x要塞的数据\n",
    "# 因为mini-batch，所以需要在cifar10上循环遍历数据，每次塞入不同数据\n",
    "\n",
    "batch_size = 20 #每次取20张图来 训练 或者 测试\n",
    "train_steps = 10000\n",
    "test_steps = 100\n",
    "\n",
    "output_summary_every_steps = 100 #因为merged_summary 和 merged_summary_test要计算的东西很多，所以不是每一步都计算\n",
    "\n",
    "with tf.Session() as sess:\n",
    "    sess.run(init)\n",
    "    \n",
    "    #FileWriter: 打开一个文件，在这个文件中写数据\n",
    "    train_writer = tf.summary.FileWriter(train_log_dir, sess.graph) #sess.graph就是我们上面写的conv1， conv2 一大堆的东西的图\n",
    "    test_writer = tf.summary.FileWriter(test_log_dir)\n",
    "\n",
    "    #每次在测试的时候，我们希望我们都是在同一个test数据集下测试，而不是像训练数据集，每次都用不同的train数据集训练\n",
    "    fixed_test_batch_data, fixed_test_batch_labels \\\n",
    "        = test_data.next_batch(batch_size)\n",
    "    for i in range(train_steps):\n",
    "        batch_data, batch_labels = train_data.next_batch(batch_size)\n",
    "        eval_ops = [loss, accuracy, train_op]\n",
    "        should_output_summary = ((i+1) % output_summary_every_steps == 0)\n",
    "        if should_output_summary :\n",
    "            eval_ops.append(merged_summary)\n",
    "        \n",
    "        #因为train_op返回的东西没有意义，所以用 _ 下划线接住返回值\n",
    "        eval_ops_results = sess.run(\n",
    "            eval_ops,  #这个是变长的\n",
    "            feed_dict = {\n",
    "                x: batch_data, \n",
    "                y: batch_labels})  #注意格式！\n",
    "        loss_val, acc_val = eval_ops_results[0:2] #不管eval_ops_results长度是2还是3，这个都是合法的\n",
    "        if should_output_summary:\n",
    "            train_summary_str = eval_ops_results[-1]\n",
    "            train_writer.add_summary(train_summary_str, i + 1) #第二个参数 i+1，是告诉writer是哪一个步数下的train_summary_str\n",
    "            #与此同时：计算merged_summary_test，同时采用固定的测试数据集\n",
    "            test_summary_list = sess.run(\n",
    "                                    [merged_summary_test],\n",
    "                                     feed_dict = {\n",
    "                                         x: fixed_test_batch_data,\n",
    "                                         y: fixed_test_batch_labels\n",
    "                                     })\n",
    "            test_summary_str = test_summary_list[-1] #注意sess.run()返回的是list，我们需要的是第一个元素\n",
    "            test_writer.add_summary(test_summary_str, i+1)\n",
    "        #===============================\n",
    "        #======训练=====================\n",
    "        if (i+1) % 1000 == 0: #使用(i+1)就可以输出500和1000\n",
    "            print(\"[Train] Step: %d, loss: %4.5f, acc: %4.5f\"\\\n",
    "                 % (i+1, loss_val, acc_val))\n",
    "        #===============================\n",
    "        #======测试=====================\n",
    "        if (i+1) % 5000 == 0: #使用(i+1)就可以输出500和1000\n",
    "            test_data = CifarData(test_filenames, False)\n",
    "            all_test_acc_vals = []\n",
    "            for j in range(test_steps):\n",
    "                test_batch_data, test_batch_labels \\\n",
    "                    = test_data.next_batch(batch_size)\n",
    "                test_acc_val = sess.run(\n",
    "                    [accuracy],\n",
    "                    feed_dict = {\n",
    "                        x: test_batch_data,\n",
    "                        y: test_batch_labels\n",
    "                    })\n",
    "                all_test_acc_vals.append(test_acc_val)\n",
    "            test_acc = np.mean(all_test_acc_vals)\n",
    "            print(\"[Test] Step: %d, acc: %4.5f\" % (i+1, test_acc))\n",
    "            \n",
    "            \n"
   ]
  },
  {
   "cell_type": "code",
   "execution_count": null,
   "metadata": {},
   "outputs": [],
   "source": []
  }
 ],
 "metadata": {
  "kernelspec": {
   "display_name": "Python 3",
   "language": "python",
   "name": "python3"
  },
  "language_info": {
   "codemirror_mode": {
    "name": "ipython",
    "version": 3
   },
   "file_extension": ".py",
   "mimetype": "text/x-python",
   "name": "python",
   "nbconvert_exporter": "python",
   "pygments_lexer": "ipython3",
   "version": "3.7.3"
  }
 },
 "nbformat": 4,
 "nbformat_minor": 2
}
