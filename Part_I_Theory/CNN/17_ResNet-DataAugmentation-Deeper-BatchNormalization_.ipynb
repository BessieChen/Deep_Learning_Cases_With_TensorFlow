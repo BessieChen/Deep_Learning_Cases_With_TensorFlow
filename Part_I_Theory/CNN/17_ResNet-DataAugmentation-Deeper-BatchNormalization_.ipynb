{
 "cells": [
  {
   "cell_type": "markdown",
   "metadata": {},
   "source": [
    "## 10分类 10个神经元 ResNet\n",
    "test 准确率：64%, fine tune: 数据增强+深层+批归一化之后会达到94%"
   ]
  },
  {
   "cell_type": "code",
   "execution_count": 1,
   "metadata": {},
   "outputs": [],
   "source": [
    "import tensorflow as tf"
   ]
  },
  {
   "cell_type": "markdown",
   "metadata": {},
   "source": [
    "#### 如果需要使用tf 1.0\n",
    "tf v2.0 does not have placeholder(), .reset_default_graph()."
   ]
  },
  {
   "cell_type": "code",
   "execution_count": 2,
   "metadata": {},
   "outputs": [
    {
     "name": "stdout",
     "output_type": "stream",
     "text": [
      "WARNING:tensorflow:From /Users/bessie/anaconda3/lib/python3.7/site-packages/tensorflow_core/python/compat/v2_compat.py:88: disable_resource_variables (from tensorflow.python.ops.variable_scope) is deprecated and will be removed in a future version.\n",
      "Instructions for updating:\n",
      "non-resource variables are not supported in the long term\n"
     ]
    }
   ],
   "source": [
    "import tensorflow.compat.v1 as tf\n",
    "tf.disable_v2_behavior() "
   ]
  },
  {
   "cell_type": "code",
   "execution_count": 3,
   "metadata": {},
   "outputs": [
    {
     "name": "stdout",
     "output_type": "stream",
     "text": [
      "['data_batch_1', '.DS_Store', 'readme.html', 'batches.meta', 'data_batch_2', 'data_batch_5', 'test_batch', 'data_batch_4', 'data_batch_3']\n"
     ]
    }
   ],
   "source": [
    "#读数据：\n",
    "import os\n",
    "import pickle as cPickle\n",
    "import numpy as np\n",
    "\n",
    "CIFAR_DIR = \"../../../other_datasets/cifar-10-batches-py\"\n",
    "print(os.listdir(CIFAR_DIR))"
   ]
  },
  {
   "cell_type": "code",
   "execution_count": 4,
   "metadata": {},
   "outputs": [],
   "source": [
    "#将数据读取,返回data 和 labels\n",
    "def load_data(filename):\n",
    "    \"\"\"read data from data file.\"\"\"\n",
    "    with open(filename, 'rb') as f:\n",
    "        data = cPickle.load(f, encoding = 'latin1')\n",
    "        return data['data'], data['labels']"
   ]
  },
  {
   "cell_type": "markdown",
   "metadata": {},
   "source": [
    "### 将 残差连接块 抽象生成函数："
   ]
  },
  {
   "cell_type": "code",
   "execution_count": 5,
   "metadata": {},
   "outputs": [],
   "source": [
    "def residual_block(x, output_channel, is_training):\n",
    "    \"\"\"residual connection implementation\"\"\"\n",
    "    input_channel = x.get_shape().as_list()[-1]\n",
    "    if input_channel * 2 == output_channel: #将进行 对原始输入进行降采样（步长==2）并且扩充输出通道数. 因为我们设置的，想要输出的通道数，大于我们实际的输入通道数\n",
    "        increase_dim = True\n",
    "        strides = (2,2)\n",
    "    elif input_channel == output_channel: #将不进行 对原始输入进行降采样\n",
    "        increase_dim = False\n",
    "        strides = (1,1)\n",
    "    else:\n",
    "        raise Exception(\"input channel can't match output channel\")\n",
    "        \n",
    "    #第一个分支：经过两个卷积层\n",
    "    #第二个分支：恒等变换，如果需要为了使size相同，原始输入需要降采样，这里的降采样采用maxpooling\n",
    "    \n",
    "    #conv1可能会降采样：如果之前strides被设置成了(2,2)，就会降采样\n",
    "    pre1 = tf.layers.conv2d(x, \n",
    "                             output_channel,\n",
    "                             (3,3), #卷积核大小\n",
    "                             strides = strides, #如果是(2,2)，那么就实现了缩小的功能\n",
    "                             padding = 'same',\n",
    "                             activation = None,\n",
    "                             name = 'conv1')\n",
    "    bn = tf.layers.batch_normalization(pre1, training = is_training)\n",
    "    conv1 = tf.nn.relu(bn)\n",
    "    \n",
    "    #conv2不会降采样，因为conv1已经降采样过了\n",
    "    pre2 = tf.layers.conv2d(conv1, \n",
    "                             output_channel,\n",
    "                             (3,3), #卷积核大小\n",
    "                             strides = (1, 1), #conv2不会降采样\n",
    "                             padding = 'same',\n",
    "                             activation = None,\n",
    "                             name = 'conv2')\n",
    "    bn2 = tf.layers.batch_normalization(pre2, training = is_training)\n",
    "    conv2 = tf.nn.relu(bn2)\n",
    "    \n",
    "    #分支加法：\n",
    "    #1. 如果conv1进行了降采样，原始输入也要降采样\n",
    "    if increase_dim:\n",
    "        #降采样，让我们的输出的大小缩小\n",
    "        pooled_x = tf.layers.average_pooling2d(x,\n",
    "                                               (2,2), #pooling核的大小一般是(2,2)\n",
    "                                               (2,2), #步长一般也是(2,2)\n",
    "                                               padding = 'valid') #因为我们的cifar10的图像大小是32*32,因为步长是(2,2),所以这里写valid和same都一样\n",
    "                                                                  #如果图像是33*33,步长是(2,2),那么valid会舍去边角料，从而丢失信息，我们有时候不想丢失信息\n",
    "        #注意，此时我们原始输入的通道数 我们需要的output_channel的一半\n",
    "        #为了和之后的conv2相加，我们需要将pooled_x再添加通道数\n",
    "        #tf.pad()第二个参数：[None, img_width, img_height, channel]\n",
    "        #变成 [,,, channel * 2]\n",
    "        padded_x = tf.pad(pooled_x,\n",
    "                           [[0,0],\n",
    "                            [0,0], #左侧，右侧\n",
    "                            [0,0], #上侧，下侧\n",
    "                            [input_channel // 2, input_channel // 2]])\n",
    "    else:\n",
    "        padded_x = x\n",
    "    \n",
    "    #最后两个分支相加：\n",
    "    output_x = conv2 + padded_x\n",
    "    \n",
    "    return output_x\n",
    "    "
   ]
  },
  {
   "cell_type": "markdown",
   "metadata": {},
   "source": [
    "### ResNet实现"
   ]
  },
  {
   "cell_type": "code",
   "execution_count": 6,
   "metadata": {},
   "outputs": [],
   "source": [
    "#num_residual_block:每一层有多少残差连接块\n",
    "#num_subsampling:降采样次数\n",
    "#num_filter_base:最初的通道数目，（注意降采样的时候，通道数目*2。或者说通道数目加倍的时候，我们需要降采样）\n",
    "#class_num:为了适应多种类别数目不同的数据集\n",
    "def res_net(x,\n",
    "            num_residual_blocks,\n",
    "            num_filter_base,\n",
    "            class_num,\n",
    "            is_training):\n",
    "    \"\"\"residual network implementation\"\"\"\n",
    "    \"\"\"\n",
    "    Args:\n",
    "    - x:\n",
    "    - num_residual_blocks: eg:[3,4,6,3]\n",
    "    - class_num:\n",
    "    \"\"\"\n",
    "    \n",
    "    num_subsampling = len(num_residual_blocks)\n",
    "    layers = []\n",
    "    # x: [None, width, height, channel]\n",
    "    # x[input_size]: [width, height, channel], 将第一个维度去掉\n",
    "    input_size = x.get_shape().as_list()[1:]\n",
    "    \n",
    "    #先让输入层进入一个普通的CN\n",
    "    with tf.variable_scope('conv0'):\n",
    "        conv0 = tf.layers.conv2d(x,\n",
    "                                 num_filter_base, #输出通道数 == 输入通道数，不变\n",
    "                                 (3,3),\n",
    "                                 strides = (1,1),\n",
    "                                 padding = \"same\", \n",
    "                                 activation = tf.nn.relu,\n",
    "                                 name = 'conv0')\n",
    "        layers.append(conv0)\n",
    "        \n",
    "    #因为此例中，cifar10的维度小只有32*32，所以这一层我们就不用ResNet的maxpooling了\n",
    "    #开始残差块实现：\n",
    "    #eg. num_subsampling = 4\n",
    "    #2 ** sample_id = [1, 2, 4, 8]\n",
    "    #所以每一个残差块的输出通道就变成了 原始输入通道数 的1,2,4,8倍\n",
    "    for sample_id in range(num_subsampling):\n",
    "        for i in range(num_residual_blocks[sample_id]):\n",
    "            with tf.variable_scope(\"conv%d_%d\" % (sample_id, i)):\n",
    "                conv = residual_block(\n",
    "                        layers[-1],\n",
    "                        num_filter_base * (2 ** sample_id),\n",
    "                        is_training)\n",
    "                layers.append(conv)\n",
    "    \n",
    "    #验证我们每一层是否是我们需要的：\n",
    "    #验证：宽高是否缩小，通道数是否加倍.\n",
    "    #layers[-1].get_shape().as_list[1:] 就是[width, height, channel]\n",
    "    multiplier = 2 ** (num_subsampling - 1)\n",
    "    assert layers[-1].get_shape().as_list()[1:] \\\n",
    "            == [input_size[0] / multiplier,\n",
    "                input_size[1] / multiplier,\n",
    "                num_filter_base * multiplier]\n",
    "    \n",
    "    #最后是 avg_pooling, 全连接full connection\n",
    "    with tf.variable_scope('fc'):\n",
    "        #avg_pooling就直接用reduce_mean实现平均，注意我们只对第2，3维度平均\n",
    "        #因为layers[-1]，也就是最后一层的conv的维度有四个：[None, width, height, channel]\n",
    "        #注意，经过global pooling之后就变成了一个值，也就是32*32变成了1个值,也就是32*32个像素的平均值\n",
    "        #因为global pooling的kernel size = img_width, img_height\n",
    "        global_pool = tf.reduce_mean(layers[-1], [1,2])\n",
    "        \n",
    "        #fc:因为最后要传入给softmax(), softmax()需要的参数叫logits\n",
    "        logits = tf.layers.dense(global_pool, class_num) #分类成10类，所以class_num会是10\n",
    "        layers.append(logits)\n",
    "        \n",
    "    return layers[-1]\n",
    "        "
   ]
  },
  {
   "cell_type": "code",
   "execution_count": 7,
   "metadata": {},
   "outputs": [],
   "source": [
    "x = tf.placeholder(tf.float32, [None, 3072])\n",
    "y = tf.placeholder(tf.int64, [None])\n",
    "\n",
    "x_image = tf.reshape(x, [-1,3,32,32])\n",
    "x_image = tf.transpose(x_image, perm = [0,2,3,1])"
   ]
  },
  {
   "cell_type": "code",
   "execution_count": 8,
   "metadata": {},
   "outputs": [],
   "source": [
    "is_training = tf.placeholder(tf.bool, [])"
   ]
  },
  {
   "cell_type": "code",
   "execution_count": 9,
   "metadata": {},
   "outputs": [
    {
     "name": "stdout",
     "output_type": "stream",
     "text": [
      "WARNING:tensorflow:From <ipython-input-6-e0c63747ea11>:32: conv2d (from tensorflow.python.layers.convolutional) is deprecated and will be removed in a future version.\n",
      "Instructions for updating:\n",
      "Use `tf.keras.layers.Conv2D` instead.\n",
      "WARNING:tensorflow:From /Users/bessie/anaconda3/lib/python3.7/site-packages/tensorflow_core/python/layers/convolutional.py:424: Layer.apply (from tensorflow.python.keras.engine.base_layer) is deprecated and will be removed in a future version.\n",
      "Instructions for updating:\n",
      "Please use `layer.__call__` method instead.\n",
      "WARNING:tensorflow:From <ipython-input-5-a252f5a724f1>:24: batch_normalization (from tensorflow.python.layers.normalization) is deprecated and will be removed in a future version.\n",
      "Instructions for updating:\n",
      "Use keras.layers.BatchNormalization instead.  In particular, `tf.control_dependencies(tf.GraphKeys.UPDATE_OPS)` should not be used (consult the `tf.keras.layers.BatchNormalization` documentation).\n",
      "WARNING:tensorflow:From <ipython-input-5-a252f5a724f1>:45: average_pooling2d (from tensorflow.python.layers.pooling) is deprecated and will be removed in a future version.\n",
      "Instructions for updating:\n",
      "Use keras.layers.AveragePooling2D instead.\n",
      "WARNING:tensorflow:From <ipython-input-6-e0c63747ea11>:67: dense (from tensorflow.python.layers.core) is deprecated and will be removed in a future version.\n",
      "Instructions for updating:\n",
      "Use keras.layers.Dense instead.\n"
     ]
    }
   ],
   "source": [
    "#随机设residual_block, 我们的cifar10的通道数是32？类别是10\n",
    "y_ = res_net(x_image, [2,2,2,2], 64, 10, is_training)"
   ]
  },
  {
   "cell_type": "code",
   "execution_count": 10,
   "metadata": {},
   "outputs": [],
   "source": [
    "loss = tf.losses.sparse_softmax_cross_entropy(labels = y, logits = y_)"
   ]
  },
  {
   "cell_type": "code",
   "execution_count": 11,
   "metadata": {},
   "outputs": [],
   "source": [
    "#bool:\n",
    "#predict = p_y_1 > 0.5\n",
    "\n",
    "#indexes(int):\n",
    "#第一个维度是同一类别下每个样本，第二维度是同一个样本下的每个类别（一个类别有一个概率值）\n",
    "predict_indexes = tf.argmax(y_, 1) #1代表第二个维度，求一个样本，哪个类别的概率值最大\n",
    "\n",
    "#int64:\n",
    "#predict_float = tf.cast(predict, tf.int64)\n",
    "\n",
    "#bool:\n",
    "correct_prediction = tf.equal(predict_indexes, y) #两个int64的array比较\n",
    "\n",
    "#float64:\n",
    "correct_prediction_float = tf.cast(correct_prediction, tf.float32)\n",
    "\n",
    "#float64, 因为correct_prediction_float是[1.0, 0.0, 1.0, ...] 而reduce_mean就是看有多少1，然后除以len\n",
    "accuracy = tf.reduce_mean(correct_prediction_float)"
   ]
  },
  {
   "cell_type": "markdown",
   "metadata": {},
   "source": [
    "### AdamOptimizer\n",
    "AdamOptimizer(learning_rate)：梯度下降的变种，是反向传播算法的变种，初始learning_rate是0.01，目标最小化loss"
   ]
  },
  {
   "cell_type": "code",
   "execution_count": 12,
   "metadata": {},
   "outputs": [],
   "source": [
    "with tf.name_scope('train_op'):\n",
    "    train_op = tf.train.AdamOptimizer(1e-3).minimize(loss)"
   ]
  },
  {
   "cell_type": "markdown",
   "metadata": {},
   "source": [
    "### cifar10 数据处理\n",
    "因为mini-batch，所以需要在cifar10上循环遍历数据，每次在sess.run()的feed_dict塞入不同数据"
   ]
  },
  {
   "cell_type": "code",
   "execution_count": 13,
   "metadata": {},
   "outputs": [],
   "source": [
    "#filenames: 对 训练数据集 和 测试数据集 是分开的\n",
    "#need_shuffle: 训练数据集需要shuffle，测试数据集不需要shuffle\n",
    "class CifarData:\n",
    "    def __init__(self, filenames, need_shuffle):\n",
    "        #读入数据：\n",
    "        all_data = []\n",
    "        all_labels = []\n",
    "        for filename in filenames:\n",
    "            data, labels = load_data(filename)\n",
    "            #data的对应位置的图像的label，也是label对应位置的label，所以把它们两个zip起来\n",
    "            all_data.append(data)\n",
    "            all_labels.append(labels)\n",
    "            #不再是只调取0，1类 \n",
    "#             for item, label in zip(data, labels):\n",
    "#                 if label in [0,1]:\n",
    "#                     all_data.append(item)\n",
    "#                     all_labels.append(label)\n",
    "        #data是numpy的矩阵，\n",
    "        #item是numpy的向量\n",
    "        #all_data里面包含了许多numpy的向量，现在我们将这些向量纵向合并到一起，成为一个矩阵：用np.vstack()\n",
    "        #all_labels里面包含了许多label的向量，现在我们将这些向量横向合并到一起，成为一个矩阵（但是这个矩阵只有一行：n * 1）：用np.hstack()\n",
    "        self._data = np.vstack(all_data) \n",
    "        self._data = self._data / 127.5 - 1 #最后做的改进：将0-255的值二分成0，1\n",
    "        self._labels = np.hstack(all_labels)\n",
    "        #print(self._data.shape)\n",
    "        #print(self._labels.shape)\n",
    "        self._num_examples = self._data.shape[0] #多少个样本\n",
    "        self._need_shuffle = need_shuffle\n",
    "        self._indicator = 0 #遍历到数据集的哪个位置\n",
    "        if self._need_shuffle:\n",
    "            self._shuffle_data()\n",
    "    \n",
    "    def _shuffle_data(self): #在训练集上shuffle\n",
    "        # np.random.permutation(6) -> [3,2,5,1,4,0]\n",
    "        p = np.random.permutation(self._num_examples) #得到一个混的全排\n",
    "        self._data = self._data[p]\n",
    "        self._labels = self._labels[p]\n",
    "        \n",
    "    def next_batch(self, batch_size): #每次返回batch_size个数个样本\n",
    "        \"\"\"return batch_size examples as a batch.\"\"\"\n",
    "        end_indicator = self._indicator + batch_size\n",
    "        if end_indicator > self._num_examples:\n",
    "            if self._need_shuffle:\n",
    "                self._shuffle_data() #就算遍历完，可是如果可以shuffle，我们的数据可以复用\n",
    "                self._indicator = 0\n",
    "                end_indicator = batch_size + 0\n",
    "            else:\n",
    "                raise Exception(\"have no more examples\") #已经遍历完了并且不能shuffle\n",
    "        if end_indicator > self._num_examples:\n",
    "            #此时说明我们输入的batch_size比我们的所有样本都要大\n",
    "            raise Exception(\"batch size is larger than example size\")\n",
    "        batch_data = self._data[self._indicator : end_indicator]\n",
    "        batch_labels = self._labels[self._indicator : end_indicator]\n",
    "        self._indicator = end_indicator\n",
    "        return batch_data, batch_labels"
   ]
  },
  {
   "cell_type": "markdown",
   "metadata": {},
   "source": [
    "### 测试我们的CifarData\n",
    "1. 首先cifar10拥有50k个样本（10个类别），我们现在是二分类问题，只选取label为0，1的\n",
    "2. 所以应该有 50k * (1/5) = 10k个样本 (10000, 3072)"
   ]
  },
  {
   "cell_type": "code",
   "execution_count": 14,
   "metadata": {},
   "outputs": [],
   "source": [
    "train_filenames = [os.path.join(CIFAR_DIR, 'data_batch_%d' % i) for i in range(1, 6)]\n",
    "test_filenames = [os.path.join(CIFAR_DIR, 'test_batch') ]\n",
    "\n",
    "train_data = CifarData(train_filenames, True)"
   ]
  },
  {
   "cell_type": "code",
   "execution_count": 15,
   "metadata": {},
   "outputs": [],
   "source": [
    "test_data = CifarData(test_filenames, False)"
   ]
  },
  {
   "cell_type": "code",
   "execution_count": 16,
   "metadata": {},
   "outputs": [],
   "source": [
    "batch_data, batch_labels = train_data.next_batch(3)"
   ]
  },
  {
   "cell_type": "markdown",
   "metadata": {},
   "source": [
    "### 执行流程图"
   ]
  },
  {
   "cell_type": "code",
   "execution_count": null,
   "metadata": {},
   "outputs": [],
   "source": [
    "init = tf.global_variables_initializer() #执行初始化\n",
    "#开启Session，相当于打开绘画\n",
    "#sess.run()执行计算图\n",
    "#1. 计算目标:\n",
    "#表示要训练：[loss, accuracy, train_op]\n",
    "#表示要测试：[loss, accuracy]\n",
    "\n",
    "#2. feed_dict:塞入数据\n",
    "# x: x要塞的数据\n",
    "# 因为mini-batch，所以需要在cifar10上循环遍历数据，每次塞入不同数据\n",
    "\n",
    "batch_size = 20 #每次取20张图来 训练 或者 测试\n",
    "train_steps = 100000\n",
    "test_steps = 100\n",
    "\n",
    "with tf.Session() as sess:\n",
    "    sess.run(init)\n",
    "    for i in range(train_steps):\n",
    "        batch_data, batch_labels = train_data.next_batch(batch_size)\n",
    "        #因为train_op返回的东西没有意义，所以用 _ 下划线接住返回值\n",
    "        loss_val, accu_val, _ = sess.run(\n",
    "            [loss, accuracy, train_op], \n",
    "            feed_dict = {\n",
    "                x: batch_data, \n",
    "                y: batch_labels,\n",
    "                is_training: True})  #注意格式！\n",
    "        #===============================\n",
    "        #======训练=====================\n",
    "        if (i+1) % 1000 == 0: #使用(i+1)就可以输出500和1000\n",
    "            print(\"[Train] Step: %d, loss: %4.5f, acc: %4.5f\"\\\n",
    "                 % (i+1, loss_val, accu_val))\n",
    "        #===============================\n",
    "        #======测试=====================\n",
    "        if (i+1) % 5000 == 0: #使用(i+1)就可以输出500和1000\n",
    "            test_data = CifarData(test_filenames, False)\n",
    "            all_test_acc_vals = []\n",
    "            for j in range(test_steps):\n",
    "                test_batch_data, test_batch_labels \\\n",
    "                    = test_data.next_batch(batch_size)\n",
    "                test_acc_val = sess.run(\n",
    "                    [accuracy],\n",
    "                    feed_dict = {\n",
    "                        x: test_batch_data,\n",
    "                        y: test_batch_labels,\n",
    "                        is_training: False\n",
    "                    })\n",
    "                all_test_acc_vals.append(test_acc_val)\n",
    "            test_acc = np.mean(all_test_acc_vals)\n",
    "            print(\"[Test] Step: %d, acc: %4.5f\" % (i+1, test_acc))"
   ]
  }
 ],
 "metadata": {
  "kernelspec": {
   "display_name": "Python 3",
   "language": "python",
   "name": "python3"
  },
  "language_info": {
   "codemirror_mode": {
    "name": "ipython",
    "version": 3
   },
   "file_extension": ".py",
   "mimetype": "text/x-python",
   "name": "python",
   "nbconvert_exporter": "python",
   "pygments_lexer": "ipython3",
   "version": "3.7.3"
  }
 },
 "nbformat": 4,
 "nbformat_minor": 2
}
