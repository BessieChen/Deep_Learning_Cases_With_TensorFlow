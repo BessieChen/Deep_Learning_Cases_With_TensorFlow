{
 "cells": [
  {
   "cell_type": "markdown",
   "metadata": {},
   "source": [
    "## 10分类 10个神经元 单层神经网络"
   ]
  },
  {
   "cell_type": "code",
   "execution_count": 1,
   "metadata": {},
   "outputs": [],
   "source": [
    "import tensorflow as tf"
   ]
  },
  {
   "cell_type": "markdown",
   "metadata": {},
   "source": [
    "#### 如果需要使用tf 1.0\n",
    "tf v2.0 does not have placeholder(), .reset_default_graph()."
   ]
  },
  {
   "cell_type": "code",
   "execution_count": 2,
   "metadata": {},
   "outputs": [
    {
     "name": "stdout",
     "output_type": "stream",
     "text": [
      "WARNING:tensorflow:From /Users/bessie/anaconda3/lib/python3.7/site-packages/tensorflow_core/python/compat/v2_compat.py:88: disable_resource_variables (from tensorflow.python.ops.variable_scope) is deprecated and will be removed in a future version.\n",
      "Instructions for updating:\n",
      "non-resource variables are not supported in the long term\n"
     ]
    }
   ],
   "source": [
    "import tensorflow.compat.v1 as tf\n",
    "tf.disable_v2_behavior() "
   ]
  },
  {
   "cell_type": "code",
   "execution_count": 3,
   "metadata": {},
   "outputs": [
    {
     "name": "stdout",
     "output_type": "stream",
     "text": [
      "['data_batch_1', '.DS_Store', 'readme.html', 'batches.meta', 'data_batch_2', 'data_batch_5', 'test_batch', 'data_batch_4', 'data_batch_3']\n"
     ]
    }
   ],
   "source": [
    "#读数据：\n",
    "import os\n",
    "import pickle as cPickle\n",
    "import numpy as np\n",
    "\n",
    "CIFAR_DIR = \"../../../other_datasets/cifar-10-batches-py\"\n",
    "print(os.listdir(CIFAR_DIR))"
   ]
  },
  {
   "cell_type": "code",
   "execution_count": 4,
   "metadata": {},
   "outputs": [],
   "source": [
    "#将数据读取,返回data 和 labels\n",
    "def load_data(filename):\n",
    "    \"\"\"read data from data file.\"\"\"\n",
    "    with open(filename, 'rb') as f:\n",
    "        data = cPickle.load(f, encoding = 'latin1')\n",
    "        return data['data'], data['labels']"
   ]
  },
  {
   "cell_type": "markdown",
   "metadata": {},
   "source": [
    "#### tf 1.0\n",
    "1. 先把图搭建起来，然后再塞入数据\n",
    "2. 所以需要占位符，是之后塞入数据的地方\n",
    "\n",
    "#### X,y的大小\n",
    "1. 下面的x之所以是[None, 3072], 是因为我们的样本数是不确定的，但是特征量是确定的\n",
    "2. 样本数不确定：因为是mini batch训练，不确定有多少个"
   ]
  },
  {
   "cell_type": "code",
   "execution_count": 5,
   "metadata": {},
   "outputs": [],
   "source": [
    "x = tf.placeholder(tf.float32, [None, 3072])\n",
    "y = tf.placeholder(tf.int64, [None])"
   ]
  },
  {
   "cell_type": "markdown",
   "metadata": {},
   "source": [
    "### tf.get_variable\n",
    "1. 获取变量的函数\n",
    "2. 第一个参数：'w'， 意思是如果没有w这个变量，就定义一个新的。"
   ]
  },
  {
   "cell_type": "markdown",
   "metadata": {},
   "source": [
    "### W -- 更改\n",
    "1. w这里定义为一个列向量：有多少个特征，就有多少行（3072行） #这里的x.get_shape()[-1]就是3072\n",
    "2. w的初始值用正态分布：initializer=tf.random_normal_initializer(0,1)"
   ]
  },
  {
   "cell_type": "code",
   "execution_count": 6,
   "metadata": {},
   "outputs": [],
   "source": [
    "w = tf.get_variable('w', \n",
    "                    [x.get_shape()[-1], 10], \n",
    "                    initializer=tf.random_normal_initializer(0,1)) "
   ]
  },
  {
   "cell_type": "markdown",
   "metadata": {},
   "source": [
    "### b -- 更改\n",
    "1. b的维度和w的第二维度一样\n",
    "2. 本例中，因为w只是一个列向量，所以第二维度是1\n",
    "3. 或者说，本例中只有一个神经元，所以b也只有1个\n",
    "4. 初始值一般都是常量，0.0"
   ]
  },
  {
   "cell_type": "code",
   "execution_count": 7,
   "metadata": {},
   "outputs": [],
   "source": [
    "b = tf.get_variable('b', \n",
    "                    [10], \n",
    "                    initializer=tf.constant_initializer(0.0)) "
   ]
  },
  {
   "cell_type": "markdown",
   "metadata": {},
   "source": [
    "### y -- 更改\n",
    "\n",
    "[softmax](https://www.tensorflow.org/api_docs/python/tf/nn/softmax)"
   ]
  },
  {
   "cell_type": "code",
   "execution_count": 8,
   "metadata": {},
   "outputs": [],
   "source": [
    "y_ = tf.matmul(x, w) + b"
   ]
  },
  {
   "cell_type": "markdown",
   "metadata": {},
   "source": [
    "### 损失函数1：平方差损失函数 mean square loss -- 更改"
   ]
  },
  {
   "cell_type": "code",
   "execution_count": 9,
   "metadata": {},
   "outputs": [],
   "source": [
    "# p_y_1 = tf.nn.sigmoid(y_)\n",
    "p_y = tf.nn.softmax(y_) #https://www.tensorflow.org/api_docs/python/tf/nn/softmax\n",
    "\n",
    "# our course: 1 + e^(wx)\n",
    "# api: 没有1，直接对e^(wx)做归一化, 即 e^(wx) / sum(e^(wx))\n",
    "\n",
    "# y_reshaped = tf.reshape(y, (-1, 1))\n",
    "# y_reshaped_float = tf.cast(y_reshaped, tf.float32)\n",
    "#loss = tf.reduce_mean(tf.square(y_reshaped_float - p_y_1))\n",
    "\n",
    "#之前y的shape是[None,] 但是p_y的shape是[None, 10]\n",
    "#可能的真值y：[0,5,6,3] 一共有10个类\n",
    "#可能的p_y:[[样本1的十个类别的概率：0.001, 0.9, 0.03, .., 0.01], [样本2的十个类别的概率], ]\n",
    "#所以我们要把y转化成one hot编码，例如3就是[0,0,0,1,0,0,0,0,0,0]\n",
    "y_one_hot = tf.one_hot(y, 10, dtype = tf.float32)\n",
    "loss = tf.reduce_mean(tf.square(y_one_hot - p_y))"
   ]
  },
  {
   "cell_type": "markdown",
   "metadata": {},
   "source": [
    "### 损失函数：交叉熵函数"
   ]
  },
  {
   "cell_type": "code",
   "execution_count": null,
   "metadata": {},
   "outputs": [],
   "source": [
    "loss2 = tf.losses.sparse_softmax_cross_entropy(labels = y, logits = y_)\n",
    "#y: 真值\n",
    "#y_: W*x 内积值\n",
    "# 这个函数的内部实现了：\n",
    "# y_ -> softmax\n",
    "# y -> one_hot\n",
    "# loss = y*log(y_)"
   ]
  },
  {
   "cell_type": "markdown",
   "metadata": {},
   "source": [
    "### 形状总结\n",
    "1. x : (None, 3072)\n",
    "2. y : (None, )\n",
    "3. W : (3072, 10)\n",
    "4. b : (10, )\n",
    "5. y_ : x * W = (None, 3072) * (3072, 10) = (None, 10)\n",
    "6. y 和 y_ 的shape不同！"
   ]
  },
  {
   "cell_type": "code",
   "execution_count": 10,
   "metadata": {},
   "outputs": [],
   "source": [
    "#bool:\n",
    "#predict = p_y_1 > 0.5\n",
    "\n",
    "#indexes(int):\n",
    "#第一个维度是同一类别下每个样本，第二维度是同一个样本下的每个类别（一个类别有一个概率值）\n",
    "predict_indexes = tf.argmax(y_, 1) #1代表第二个维度，求一个样本，哪个类别的概率值最大\n",
    "\n",
    "#int64:\n",
    "#predict_float = tf.cast(predict, tf.int64)\n",
    "\n",
    "#bool:\n",
    "correct_prediction = tf.equal(predict_indexes, y) #两个int64的array比较\n",
    "\n",
    "#float64:\n",
    "correct_prediction_float = tf.cast(correct_prediction, tf.float32)\n",
    "\n",
    "#float64, 因为correct_prediction_float是[1.0, 0.0, 1.0, ...] 而reduce_mean就是看有多少1，然后除以len\n",
    "accuracy = tf.reduce_mean(correct_prediction_float)"
   ]
  },
  {
   "cell_type": "markdown",
   "metadata": {},
   "source": [
    "### AdamOptimizer\n",
    "AdamOptimizer(learning_rate)：梯度下降的变种，是反向传播算法的变种，初始learning_rate是0.01，目标最小化loss"
   ]
  },
  {
   "cell_type": "code",
   "execution_count": 11,
   "metadata": {},
   "outputs": [],
   "source": [
    "with tf.name_scope('train_op'):\n",
    "    train_op = tf.train.AdamOptimizer(1e-3).minimize(loss)"
   ]
  },
  {
   "cell_type": "markdown",
   "metadata": {},
   "source": [
    "### cifar10 数据处理\n",
    "因为mini-batch，所以需要在cifar10上循环遍历数据，每次在sess.run()的feed_dict塞入不同数据"
   ]
  },
  {
   "cell_type": "code",
   "execution_count": 14,
   "metadata": {},
   "outputs": [],
   "source": [
    "#filenames: 对 训练数据集 和 测试数据集 是分开的\n",
    "#need_shuffle: 训练数据集需要shuffle，测试数据集不需要shuffle\n",
    "class CifarData:\n",
    "    def __init__(self, filenames, need_shuffle):\n",
    "        #读入数据：\n",
    "        all_data = []\n",
    "        all_labels = []\n",
    "        for filename in filenames:\n",
    "            data, labels = load_data(filename)\n",
    "            #data的对应位置的图像的label，也是label对应位置的label，所以把它们两个zip起来\n",
    "            all_data.append(data)\n",
    "            all_labels.append(labels)\n",
    "            #不再是只调取0，1类 \n",
    "#             for item, label in zip(data, labels):\n",
    "#                 if label in [0,1]:\n",
    "#                     all_data.append(item)\n",
    "#                     all_labels.append(label)\n",
    "        #data是numpy的矩阵，\n",
    "        #item是numpy的向量\n",
    "        #all_data里面包含了许多numpy的向量，现在我们将这些向量纵向合并到一起，成为一个矩阵：用np.vstack()\n",
    "        #all_labels里面包含了许多label的向量，现在我们将这些向量横向合并到一起，成为一个矩阵（但是这个矩阵只有一行：n * 1）：用np.hstack()\n",
    "        self._data = np.vstack(all_data) \n",
    "        self._data = self._data / 127.5 - 1 #最后做的改进：将0-255的值二分成0，1\n",
    "        self._labels = np.hstack(all_labels)\n",
    "        #print(self._data.shape)\n",
    "        #print(self._labels.shape)\n",
    "        self._num_examples = self._data.shape[0] #多少个样本\n",
    "        self._need_shuffle = need_shuffle\n",
    "        self._indicator = 0 #遍历到数据集的哪个位置\n",
    "        if self._need_shuffle:\n",
    "            self._shuffle_data()\n",
    "    \n",
    "    def _shuffle_data(self): #在训练集上shuffle\n",
    "        # np.random.permutation(6) -> [3,2,5,1,4,0]\n",
    "        p = np.random.permutation(self._num_examples) #得到一个混的全排\n",
    "        self._data = self._data[p]\n",
    "        self._labels = self._labels[p]\n",
    "        \n",
    "    def next_batch(self, batch_size): #每次返回batch_size个数个样本\n",
    "        \"\"\"return batch_size examples as a batch.\"\"\"\n",
    "        end_indicator = self._indicator + batch_size\n",
    "        if end_indicator > self._num_examples:\n",
    "            if self._need_shuffle:\n",
    "                self._shuffle_data() #就算遍历完，可是如果可以shuffle，我们的数据可以复用\n",
    "                self._indicator = 0\n",
    "                end_indicator = batch_size + 0\n",
    "            else:\n",
    "                raise Exception(\"have no more examples\") #已经遍历完了并且不能shuffle\n",
    "        if end_indicator > self._num_examples:\n",
    "            #此时说明我们输入的batch_size比我们的所有样本都要大\n",
    "            raise Exception(\"batch size is larger than example size\")\n",
    "        batch_data = self._data[self._indicator : end_indicator]\n",
    "        batch_labels = self._labels[self._indicator : end_indicator]\n",
    "        self._indicator = end_indicator\n",
    "        return batch_data, batch_labels"
   ]
  },
  {
   "cell_type": "markdown",
   "metadata": {},
   "source": [
    "### 测试我们的CifarData\n",
    "1. 首先cifar10拥有50k个样本（10个类别），我们现在是二分类问题，只选取label为0，1的\n",
    "2. 所以应该有 50k * (1/5) = 10k个样本 (10000, 3072)"
   ]
  },
  {
   "cell_type": "code",
   "execution_count": 15,
   "metadata": {},
   "outputs": [],
   "source": [
    "train_filenames = [os.path.join(CIFAR_DIR, 'data_batch_%d' % i) for i in range(1, 6)]\n",
    "test_filenames = [os.path.join(CIFAR_DIR, 'test_batch') ]\n",
    "\n",
    "train_data = CifarData(train_filenames, True)"
   ]
  },
  {
   "cell_type": "code",
   "execution_count": 16,
   "metadata": {},
   "outputs": [],
   "source": [
    "test_data = CifarData(test_filenames, False)"
   ]
  },
  {
   "cell_type": "code",
   "execution_count": 17,
   "metadata": {},
   "outputs": [],
   "source": [
    "batch_data, batch_labels = train_data.next_batch(3)\n",
    "# print(batch_data.shape)\n",
    "# print(batch_data)\n",
    "# print(batch_labels.shape)\n",
    "# print(batch_labels)"
   ]
  },
  {
   "cell_type": "markdown",
   "metadata": {},
   "source": [
    "### 执行流程图"
   ]
  },
  {
   "cell_type": "code",
   "execution_count": 18,
   "metadata": {},
   "outputs": [
    {
     "name": "stdout",
     "output_type": "stream",
     "text": [
      "[Train] Step: 1000, loss: 0.14752, acc: 0.25000\n",
      "[Train] Step: 2000, loss: 0.17704, acc: 0.10000\n",
      "[Train] Step: 3000, loss: 0.12999, acc: 0.35000\n",
      "[Train] Step: 4000, loss: 0.11720, acc: 0.40000\n",
      "[Train] Step: 5000, loss: 0.18303, acc: 0.05000\n",
      "[Test] Step: 5000, acc: 0.29900\n",
      "[Train] Step: 6000, loss: 0.16591, acc: 0.15000\n",
      "[Train] Step: 7000, loss: 0.15722, acc: 0.20000\n",
      "[Train] Step: 8000, loss: 0.11676, acc: 0.40000\n",
      "[Train] Step: 9000, loss: 0.13877, acc: 0.30000\n",
      "[Train] Step: 10000, loss: 0.13881, acc: 0.30000\n",
      "[Test] Step: 10000, acc: 0.34100\n"
     ]
    }
   ],
   "source": [
    "init = tf.global_variables_initializer() #执行初始化\n",
    "#开启Session，相当于打开绘画\n",
    "#sess.run()执行计算图\n",
    "#1. 计算目标:\n",
    "#表示要训练：[loss, accuracy, train_op]\n",
    "#表示要测试：[loss, accuracy]\n",
    "\n",
    "#2. feed_dict:塞入数据\n",
    "# x: x要塞的数据\n",
    "# 因为mini-batch，所以需要在cifar10上循环遍历数据，每次塞入不同数据\n",
    "\n",
    "batch_size = 20 #每次取20张图来 训练 或者 测试\n",
    "train_steps = 10000\n",
    "test_steps = 100\n",
    "\n",
    "with tf.Session() as sess:\n",
    "    sess.run(init)\n",
    "    for i in range(train_steps):\n",
    "        batch_data, batch_labels = train_data.next_batch(batch_size)\n",
    "        #因为train_op返回的东西没有意义，所以用 _ 下划线接住返回值\n",
    "        loss_val, accu_val, _ = sess.run(\n",
    "            [loss, accuracy, train_op], \n",
    "            feed_dict = {\n",
    "                x: batch_data, \n",
    "                y: batch_labels})  #注意格式！\n",
    "        #===============================\n",
    "        #======训练=====================\n",
    "        if (i+1) % 1000 == 0: #使用(i+1)就可以输出500和1000\n",
    "            print(\"[Train] Step: %d, loss: %4.5f, acc: %4.5f\"\\\n",
    "                 % (i+1, loss_val, accu_val))\n",
    "        #===============================\n",
    "        #======测试=====================\n",
    "        if (i+1) % 5000 == 0: #使用(i+1)就可以输出500和1000\n",
    "            test_data = CifarData(test_filenames, False)\n",
    "            all_test_acc_vals = []\n",
    "            for j in range(test_steps):\n",
    "                test_batch_data, test_batch_labels \\\n",
    "                    = test_data.next_batch(batch_size)\n",
    "                test_acc_val = sess.run(\n",
    "                    [accuracy],\n",
    "                    feed_dict = {\n",
    "                        x: test_batch_data,\n",
    "                        y: test_batch_labels\n",
    "                    })\n",
    "                all_test_acc_vals.append(test_acc_val)\n",
    "            test_acc = np.mean(all_test_acc_vals)\n",
    "            print(\"[Test] Step: %d, acc: %4.5f\" % (i+1, test_acc))\n",
    "            \n",
    "            \n"
   ]
  },
  {
   "cell_type": "markdown",
   "metadata": {},
   "source": [
    "#### 观察\n",
    "1. train的acc只有0.3左右，但是随机猜的正确率是0.1\n",
    "2. 上面的test结果，acc增加"
   ]
  },
  {
   "cell_type": "code",
   "execution_count": null,
   "metadata": {},
   "outputs": [],
   "source": []
  }
 ],
 "metadata": {
  "kernelspec": {
   "display_name": "Python 3",
   "language": "python",
   "name": "python3"
  },
  "language_info": {
   "codemirror_mode": {
    "name": "ipython",
    "version": 3
   },
   "file_extension": ".py",
   "mimetype": "text/x-python",
   "name": "python",
   "nbconvert_exporter": "python",
   "pygments_lexer": "ipython3",
   "version": "3.7.3"
  }
 },
 "nbformat": 4,
 "nbformat_minor": 2
}
