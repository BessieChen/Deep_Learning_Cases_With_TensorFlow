{
 "cells": [
  {
   "cell_type": "markdown",
   "metadata": {},
   "source": [
    "### Play with cifar10\n",
    "Download cifar10:\n",
    "\n",
    "[cifar10 download](https://www.cs.toronto.edu/~kriz/cifar.html)"
   ]
  },
  {
   "cell_type": "code",
   "execution_count": 33,
   "metadata": {},
   "outputs": [
    {
     "name": "stdout",
     "output_type": "stream",
     "text": [
      "['data_batch_1', '.DS_Store', 'readme.html', 'batches.meta', 'data_batch_2', 'data_batch_5', 'test_batch', 'data_batch_4', 'data_batch_3']\n"
     ]
    }
   ],
   "source": [
    "import pickle as cPickle #\n",
    "import numpy as np\n",
    "import os\n",
    "\n",
    "CIFAR_DIR = \"../../../other_datasets/cifar-10-batches-py\"\n",
    "print(os.listdir(CIFAR_DIR)) #看CIFAR_DIR这个文件夹下有什么内容"
   ]
  },
  {
   "cell_type": "code",
   "execution_count": 6,
   "metadata": {},
   "outputs": [
    {
     "name": "stdout",
     "output_type": "stream",
     "text": [
      "f: <_io.BufferedReader name='./cifar-10-batches-py/data_batch_1'>\n",
      "type(data): <class 'dict'>\n",
      "dict_keys(['batch_label', 'labels', 'data', 'filenames'])\n"
     ]
    }
   ],
   "source": [
    "#用with语句来打开文件，之后直接使用as f中的f\n",
    "with open(os.path.join(CIFAR_DIR, \"data_batch_1\"), 'rb') as f:\n",
    "    print(\"f:\",f)\n",
    "    data = cPickle.load(f, encoding='latin1')\n",
    "    print(\"type(data):\",type(data))\n",
    "    print(data.keys())\n"
   ]
  },
  {
   "cell_type": "code",
   "execution_count": 15,
   "metadata": {},
   "outputs": [
    {
     "name": "stdout",
     "output_type": "stream",
     "text": [
      "key: batch_label \ttype: <class 'str'>\n",
      "key: labels \ttype: <class 'list'>\n",
      "key: data \ttype: <class 'numpy.ndarray'>\n",
      "key: filenames \ttype: <class 'list'>\n"
     ]
    }
   ],
   "source": [
    "for key in data.keys():\n",
    "    print(\"key:\", key,\"\\ttype:\",type(data[key]))"
   ]
  },
  {
   "cell_type": "markdown",
   "metadata": {},
   "source": [
    "### data\n",
    "1. numpy.ndarray\n",
    "2. 有10k个数据，每个有1024 * 3个特征\n",
    "3. 1024 = 32 * 32, 所以是32行32列的正方形\n",
    "4. 每个特征的值是0 - 255"
   ]
  },
  {
   "cell_type": "code",
   "execution_count": 19,
   "metadata": {
    "scrolled": true
   },
   "outputs": [
    {
     "name": "stdout",
     "output_type": "stream",
     "text": [
      "(10000, 3072)\n",
      "[[ 59  43  50 ... 140  84  72]\n",
      " [154 126 105 ... 139 142 144]]\n"
     ]
    }
   ],
   "source": [
    "print(data['data'].shape)\n",
    "print(data['data'][0:2])"
   ]
  },
  {
   "cell_type": "markdown",
   "metadata": {},
   "source": [
    "### labels\n",
    "1. list\n",
    "2. 有10个类的物品\n",
    "![cifar labels](./others/cifar-class.png)"
   ]
  },
  {
   "cell_type": "code",
   "execution_count": 20,
   "metadata": {},
   "outputs": [
    {
     "name": "stdout",
     "output_type": "stream",
     "text": [
      "[6, 9]\n"
     ]
    }
   ],
   "source": [
    "print(data['labels'][0:2])"
   ]
  },
  {
   "cell_type": "markdown",
   "metadata": {},
   "source": [
    "### batch_label\n",
    "五个batch的第几个"
   ]
  },
  {
   "cell_type": "code",
   "execution_count": 21,
   "metadata": {},
   "outputs": [
    {
     "name": "stdout",
     "output_type": "stream",
     "text": [
      "training batch 1 of 5\n"
     ]
    }
   ],
   "source": [
    "print(data['batch_label'])"
   ]
  },
  {
   "cell_type": "markdown",
   "metadata": {},
   "source": [
    "### filenames\n",
    "每张图片的名字"
   ]
  },
  {
   "cell_type": "code",
   "execution_count": 23,
   "metadata": {},
   "outputs": [
    {
     "name": "stdout",
     "output_type": "stream",
     "text": [
      "['leptodactylus_pentadactylus_s_000004.png', 'camion_s_000148.png']\n"
     ]
    }
   ],
   "source": [
    "print(data['filenames'][0:2])"
   ]
  },
  {
   "cell_type": "markdown",
   "metadata": {},
   "source": [
    "### 如何将数据转换成图像\n",
    "数据的生成：\n",
    "1. 文档描述中，是分别将R，G，B三个通道的32 * 32 压缩成1维，也就是R先压缩成 1 * 1024\n",
    "2. G压缩成 1 * 1024, B压缩成 1 * 1024\n",
    "3. 最后这三个 1 * 1024 连接起来\n",
    "\n",
    "图片的反解析：\n",
    "1. 所以我们拿到数据，先切成3份，也就是一个通道的像素\n",
    "2. 接着切32份，也就是某一行的\n",
    "3. 但是我们现在获取的是 3 * 32 * 32, 可是我们要绘制图片的时候，matplotlib.pyplot的imshow需要的是 32 * 32 * 3\n",
    "4. 所以先reshape成 3 * 32 * 32, 再transpose 32 * 32 * 3"
   ]
  },
  {
   "cell_type": "code",
   "execution_count": 24,
   "metadata": {},
   "outputs": [],
   "source": [
    "#获取第100张图片\n",
    "image_arr = data['data'][100]\n",
    "image_arr = image_arr.reshape([3, 32, -1]) #相当于 image_arr.reshape([3, 32, 32])"
   ]
  },
  {
   "cell_type": "code",
   "execution_count": 25,
   "metadata": {},
   "outputs": [],
   "source": [
    "image_arr = image_arr.transpose((1,2,0)) \n",
    "#最前面的维度是 之前的第1个维度\n",
    "#中间的维度是 之前的第2个维度\n",
    "#最后面的维度是 之前的第0个维度"
   ]
  },
  {
   "cell_type": "code",
   "execution_count": 30,
   "metadata": {},
   "outputs": [
    {
     "data": {
      "text/plain": [
       "<matplotlib.image.AxesImage at 0x7f95395a1d68>"
      ]
     },
     "execution_count": 30,
     "metadata": {},
     "output_type": "execute_result"
    },
    {
     "data": {
      "image/png": "[encoded data removed]",
      "text/plain": [
       "<Figure size 432x288 with 1 Axes>"
      ]
     },
     "metadata": {
      "needs_background": "light"
     },
     "output_type": "display_data"
    }
   ],
   "source": [
    "import matplotlib.pyplot as plt\n",
    "from matplotlib.pyplot import imshow\n",
    "\n",
    "%matplotlib inline\n",
    "\n",
    "imshow(image_arr) #这个就可以打印图片：image show"
   ]
  },
  {
   "cell_type": "code",
   "execution_count": 32,
   "metadata": {},
   "outputs": [
    {
     "data": {
      "text/plain": [
       "<matplotlib.image.AxesImage at 0x7f953a503c88>"
      ]
     },
     "execution_count": 32,
     "metadata": {},
     "output_type": "execute_result"
    },
    {
     "data": {
      "image/png": "[encoded data removed]",
      "text/plain": [
       "<Figure size 432x288 with 1 Axes>"
      ]
     },
     "metadata": {
      "needs_background": "light"
     },
     "output_type": "display_data"
    }
   ],
   "source": [
    "image_arr = image_arr.transpose((1,2,0)) \n",
    "imshow(image_arr) #这个就可以打印图片：image show"
   ]
  },
  {
   "cell_type": "code",
   "execution_count": null,
   "metadata": {},
   "outputs": [],
   "source": []
  }
 ],
 "metadata": {
  "kernelspec": {
   "display_name": "Python 3",
   "language": "python",
   "name": "python3"
  },
  "language_info": {
   "codemirror_mode": {
    "name": "ipython",
    "version": 3
   },
   "file_extension": ".py",
   "mimetype": "text/x-python",
   "name": "python",
   "nbconvert_exporter": "python",
   "pygments_lexer": "ipython3",
   "version": "3.7.3"
  }
 },
 "nbformat": 4,
 "nbformat_minor": 2
}
